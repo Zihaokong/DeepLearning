{
 "cells": [
  {
   "cell_type": "code",
   "execution_count": 1,
   "metadata": {},
   "outputs": [],
   "source": [
    "import numpy as np\n",
    "from fashion_mnist_dataset.utils import mnist_reader\n",
    "from PIL import Image\n",
    "import matplotlib.pyplot as plt\n",
    "import matplotlib.cm as cm\n",
    "\n",
    "# Load datasets\n",
    "X_train_mnist, y_train_mnist = mnist_reader.load_mnist('fashion_mnist_dataset/data/fashion', kind='train')\n",
    "X_test_mnist, y_test_mnist = mnist_reader.load_mnist('fashion_mnist_dataset/data/fashion', kind='t10k')\n",
    "\n",
    "\n",
    "# Train data for tshirt(0) and boot(9)\n",
    "X_train_tshirt_boot = np.array([image for image, label in zip(X_train_mnist, y_train_mnist) if label == 0 or label == 9])\n",
    "y_train_tshirt_boot = np.array([0 if label == 0 else 1 for image, label in zip(X_train_mnist, y_train_mnist) if label == 0 or label == 9])\n",
    "\n",
    "X_test_tshirt_boot = np.array([image for image, label in zip(X_test_mnist, y_test_mnist) if label == 0 or label == 9])\n",
    "y_test_tshirt_boot = np.array([0 if label == 0 else 1 for image, label in zip(X_test_mnist, y_test_mnist) if label == 0 or label == 9],dtype='f')\n",
    "\n",
    "# Train data for pullover(2) and coat(4)\n",
    "X_train_pullover_coat = np.array([image for image, label in zip(X_train_mnist, y_train_mnist) if label == 2 or label == 4])\n",
    "y_train_pullover_coat = np.array([0 if label == 2 else 1 for image, label in zip(X_train_mnist, y_train_mnist) if label == 2 or label == 4])\n",
    "\n",
    "X_test_pullover_coat = np.array([image for image, label in zip(X_test_mnist, y_test_mnist) if label == 2 or label == 4])\n",
    "y_test_pullover_coat = np.array([0 if label == 2 else 1 for image, label in zip(X_test_mnist, y_test_mnist) if label == 2 or label == 4])\n",
    "\n",
    "# Train data for all classes\n",
    "X_train_all_class = X_train_mnist\n",
    "y_train_all_class = np.eye(10)[y_train_mnist]\n",
    "\n",
    "X_test_all_class = X_test_mnist\n",
    "y_test_all_class = np.eye(10)[y_test_mnist]"
   ]
  },
  {
   "cell_type": "code",
   "execution_count": null,
   "metadata": {},
   "outputs": [],
   "source": [
    "y_train_all_class"
   ]
  },
  {
   "cell_type": "code",
   "execution_count": 2,
   "metadata": {},
   "outputs": [
    {
     "name": "stdout",
     "output_type": "stream",
     "text": [
      "X train dim: (12000, 784) (12000, 784)\n",
      "X test dim: (2000, 784) (2000, 784)\n",
      "Y train dim: (12000, 1) (12000, 1)\n",
      "Y test dim: (2000, 1) (2000, 1)\n"
     ]
    }
   ],
   "source": [
    "# Shuffle\n",
    "shuffled_indices = np.random.permutation(len(X_train_tshirt_boot))\n",
    "X_train_tshirt_boot = X_train_tshirt_boot[shuffled_indices]\n",
    "y_train_tshirt_boot = y_train_tshirt_boot[shuffled_indices].reshape(-1,1)\n",
    "\n",
    "shuffled_indices = np.random.permutation(len(X_test_tshirt_boot))\n",
    "X_test_tshirt_boot = X_test_tshirt_boot[shuffled_indices]\n",
    "y_test_tshirt_boot = y_test_tshirt_boot[shuffled_indices].reshape(-1, 1)\n",
    "\n",
    "shuffled_indices = np.random.permutation(len(X_train_pullover_coat))\n",
    "X_train_pullover_coat = X_train_pullover_coat[shuffled_indices]\n",
    "y_train_pullover_coat = y_train_pullover_coat[shuffled_indices].reshape(-1,1)\n",
    "\n",
    "shuffled_indices = np.random.permutation(len(X_test_pullover_coat))\n",
    "X_test_pullover_coat = X_test_pullover_coat[shuffled_indices]\n",
    "y_test_pullover_coat = y_test_pullover_coat[shuffled_indices].reshape(-1, 1)\n",
    "\n",
    "shuffled_indices = np.random.permutation(len(X_train_all_class))\n",
    "X_train_all_class = X_train_all_class[shuffled_indices]\n",
    "y_train_all_class = y_train_all_class[shuffled_indices]\n",
    "\n",
    "shuffled_indices = np.random.permutation(len(X_test_all_class))\n",
    "X_test_all_class = X_test_all_class[shuffled_indices]\n",
    "y_test_all_class = y_test_all_class[shuffled_indices]\n",
    "\n",
    "print(\"X train dim:\",X_train_tshirt_boot.shape,X_train_pullover_coat.shape)\n",
    "print(\"X test dim:\",X_test_tshirt_boot.shape,X_test_pullover_coat.shape)\n",
    "\n",
    "print(\"Y train dim:\",y_train_tshirt_boot.shape,y_train_pullover_coat.shape)\n",
    "print(\"Y test dim:\",y_test_tshirt_boot.shape,y_test_pullover_coat.shape)"
   ]
  },
  {
   "cell_type": "code",
   "execution_count": 3,
   "metadata": {
    "scrolled": false
   },
   "outputs": [
    {
     "name": "stdout",
     "output_type": "stream",
     "text": [
      "X train dim: (12000, 784) (12000, 784)\n",
      "X test dim: (2000, 784) (2000, 784)\n",
      "Y train dim: (12000, 1) (12000, 1)\n",
      "Y test dim: (2000, 1) (2000, 1)\n"
     ]
    }
   ],
   "source": [
    "# Normalization\n",
    "def matrix_norm(mat):\n",
    "    mat_t = mat.T\n",
    "    for i in range(mat_t.shape[0]):\n",
    "        \n",
    "        ma = max(mat_t[i])\n",
    "        mi = min(mat_t[i])\n",
    "        interval = ma - mi\n",
    "        if ma - mi == 0:\n",
    "            continue\n",
    "        else:\n",
    "            mat_t[i] = np.true_divide(mat_t[i] - mi, ma - mi)\n",
    "    return mat_t.T\n",
    "\n",
    "\n",
    "X_train_tshirt_boot = np.array(matrix_norm(np.array(X_train_tshirt_boot, dtype='f')), dtype = 'f')\n",
    "X_test_tshirt_boot = np.array(matrix_norm(np.array(X_test_tshirt_boot, dtype='f')), dtype='f')\n",
    "\n",
    "X_train_pullover_coat = np.array(matrix_norm(np.array(X_train_pullover_coat, dtype='f')), dtype = 'f')\n",
    "X_test_pullover_coat = np.array(matrix_norm(np.array(X_test_pullover_coat, dtype='f')), dtype = 'f')\n",
    "\n",
    "X_train_all_class = np.array(matrix_norm(np.array(X_train_all_class, dtype='f')), dtype = 'f')\n",
    "\n",
    "\n",
    "print(\"X train dim:\",X_train_tshirt_boot.shape,X_train_pullover_coat.shape)\n",
    "print(\"X test dim:\",X_test_tshirt_boot.shape,X_test_pullover_coat.shape)\n",
    "\n",
    "print(\"Y train dim:\",y_train_tshirt_boot.shape,y_train_pullover_coat.shape)\n",
    "print(\"Y test dim:\",y_test_tshirt_boot.shape,y_test_pullover_coat.shape)"
   ]
  },
  {
   "cell_type": "code",
   "execution_count": null,
   "metadata": {},
   "outputs": [],
   "source": [
    "X_train_all_class[0]"
   ]
  },
  {
   "cell_type": "code",
   "execution_count": 4,
   "metadata": {},
   "outputs": [
    {
     "name": "stdout",
     "output_type": "stream",
     "text": [
      "tshirt boot pc: (784, 784)\n"
     ]
    }
   ],
   "source": [
    "# Principal component analysis (PCA)\n",
    "def pca(A):\n",
    "    mean = np.mean(A, axis = 0)\n",
    "    centered = A - mean\n",
    "    covariance_matrix = np.cov(centered.T)\n",
    "    eigen_values, eigen_vectors = np.linalg.eigh(covariance_matrix)\n",
    "    \n",
    "    return np.fliplr(eigen_vectors)\n",
    "\n",
    "pc_tshirt_boot = pca(X_train_tshirt_boot)\n",
    "pc_pullover_coat = pca(X_train_pullover_coat)\n",
    "pc_all_class = pca(X_train_all_class)\n",
    "\n",
    "print(\"tshirt boot pc:\",pc_tshirt_boot.shape)"
   ]
  },
  {
   "cell_type": "code",
   "execution_count": 5,
   "metadata": {},
   "outputs": [
    {
     "data": {
      "text/plain": [
       "<matplotlib.image.AxesImage at 0x125584a30>"
      ]
     },
     "execution_count": 5,
     "metadata": {},
     "output_type": "execute_result"
    },
    {
     "data": {
      "image/png": "[encoded data removed]",
      "text/plain": [
       "<Figure size 432x288 with 6 Axes>"
      ]
     },
     "metadata": {
      "needs_background": "light"
     },
     "output_type": "display_data"
    }
   ],
   "source": [
    "# Visualize PCs for boots & t-shirt\n",
    "sample_image = X_train_tshirt_boot[np.random.choice(len(X_train_tshirt_boot)), :]\n",
    "\n",
    "pc_tshirt_boot_2 = (sample_image @ pc_tshirt_boot[:, :2] @ pc_tshirt_boot[:, :2].T)\n",
    "pc_tshirt_boot_10 = (sample_image @ pc_tshirt_boot[:, :10] @ pc_tshirt_boot[:, :10].T)\n",
    "pc_tshirt_boot_50 = (sample_image @ pc_tshirt_boot[:, :50] @ pc_tshirt_boot[:, :50].T)\n",
    "pc_tshirt_boot_100 = (sample_image @ pc_tshirt_boot[:, :100] @ pc_tshirt_boot[:, :100].T)\n",
    "pc_tshirt_boot_200 = (sample_image @ pc_tshirt_boot[:, :200] @ pc_tshirt_boot[:, :200].T)\n",
    "pc_tshirt_boot_784 = (sample_image @ pc_tshirt_boot[:, :784] @ pc_tshirt_boot[:, :784].T)\n",
    "\n",
    "fig, axs = plt.subplots(2, 3)\n",
    "plt.subplots_adjust(hspace = 0.5)\n",
    "fig.suptitle('Principal Components of Boots - T-Shirt Dataset', fontsize = 16)\n",
    "axs[0, 0].set_title('p = 2')\n",
    "axs[0, 0].imshow(pc_tshirt_boot_2.reshape((28, 28)), cmap='gray')\n",
    "axs[0, 1].set_title('p = 10')\n",
    "axs[0, 1].imshow(pc_tshirt_boot_10.reshape((28, 28)), cmap='gray')\n",
    "axs[0, 2].set_title('p = 50')\n",
    "axs[0, 2].imshow(pc_tshirt_boot_50.reshape((28, 28)), cmap='gray')\n",
    "axs[1, 0].set_title('p = 100')\n",
    "axs[1, 0].imshow(pc_tshirt_boot_100.reshape((28, 28)), cmap='gray')\n",
    "axs[1, 1].set_title('p = 200')\n",
    "axs[1, 1].imshow(pc_tshirt_boot_200.reshape((28, 28)), cmap='gray')\n",
    "axs[1, 2].set_title('p = 784 (Original)')\n",
    "axs[1, 2].imshow(pc_tshirt_boot_784.reshape((28, 28)), cmap='gray')"
   ]
  },
  {
   "cell_type": "code",
   "execution_count": 6,
   "metadata": {},
   "outputs": [
    {
     "data": {
      "text/plain": [
       "<matplotlib.image.AxesImage at 0x1257ade80>"
      ]
     },
     "execution_count": 6,
     "metadata": {},
     "output_type": "execute_result"
    },
    {
     "data": {
      "image/png": "[encoded data removed]",
      "text/plain": [
       "<Figure size 432x288 with 6 Axes>"
      ]
     },
     "metadata": {
      "needs_background": "light"
     },
     "output_type": "display_data"
    }
   ],
   "source": [
    "# Visualize PCs for pullover & coat\n",
    "sample_image = X_train_pullover_coat[np.random.choice(len(X_train_tshirt_boot)), :]\n",
    "\n",
    "pc_pullover_coat_2 = (sample_image @ pc_pullover_coat[:, :2] @ pc_pullover_coat[:, :2].T)\n",
    "pc_pullover_coat_10 = (sample_image @ pc_pullover_coat[:, :10] @ pc_pullover_coat[:, :10].T)\n",
    "pc_pullover_coat_50 = (sample_image @ pc_pullover_coat[:, :50] @ pc_pullover_coat[:, :50].T)\n",
    "pc_pullover_coat_100 = (sample_image @ pc_pullover_coat[:, :100] @ pc_pullover_coat[:, :100].T)\n",
    "pc_pullover_coat_200 = (sample_image @ pc_pullover_coat[:, :200] @ pc_pullover_coat[:, :200].T)\n",
    "pc_pullover_coat_784 = (sample_image @ pc_pullover_coat[:, :784] @ pc_pullover_coat[:, :784].T)\n",
    "\n",
    "fig, axs = plt.subplots(2, 3)\n",
    "plt.subplots_adjust(hspace = 0.5)\n",
    "fig.suptitle('Principal Components of Pullover - Coat Dataset', fontsize = 16)\n",
    "axs[0, 0].set_title('p = 2')\n",
    "axs[0, 0].imshow(pc_pullover_coat_2.reshape((28, 28)), cmap='gray')\n",
    "axs[0, 1].set_title('p = 10')\n",
    "axs[0, 1].imshow(pc_pullover_coat_10.reshape((28, 28)), cmap='gray')\n",
    "axs[0, 2].set_title('p = 50')\n",
    "axs[0, 2].imshow(pc_pullover_coat_50.reshape((28, 28)), cmap='gray')\n",
    "axs[1, 0].set_title('p = 100')\n",
    "axs[1, 0].imshow(pc_pullover_coat_100.reshape((28, 28)), cmap='gray')\n",
    "axs[1, 1].set_title('p = 200')\n",
    "axs[1, 1].imshow(pc_pullover_coat_200.reshape((28, 28)), cmap='gray')\n",
    "axs[1, 2].set_title('p = 784 (Original)')\n",
    "axs[1, 2].imshow(pc_pullover_coat_784.reshape((28, 28)), cmap='gray')"
   ]
  },
  {
   "cell_type": "code",
   "execution_count": 7,
   "metadata": {},
   "outputs": [
    {
     "data": {
      "text/plain": [
       "<matplotlib.image.AxesImage at 0x1259571f0>"
      ]
     },
     "execution_count": 7,
     "metadata": {},
     "output_type": "execute_result"
    },
    {
     "data": {
      "image/png": "[encoded data removed]",
      "text/plain": [
       "<Figure size 432x288 with 6 Axes>"
      ]
     },
     "metadata": {
      "needs_background": "light"
     },
     "output_type": "display_data"
    }
   ],
   "source": [
    "# Visualize PCs for all classes\n",
    "sample_image = X_train_all_class[np.random.choice(len(X_train_all_class)), :]\n",
    "\n",
    "pc_all_class_2 = (sample_image @ pc_all_class[:, :2] @ pc_all_class[:, :2].T)\n",
    "pc_all_class_10 = (sample_image @ pc_all_class[:, :10] @ pc_all_class[:, :10].T)\n",
    "pc_all_class_50 = (sample_image @ pc_all_class[:, :50] @ pc_all_class[:, :50].T)\n",
    "pc_all_class_100 = (sample_image @ pc_all_class[:, :100] @ pc_all_class[:, :100].T)\n",
    "pc_all_class_200 = (sample_image @ pc_all_class[:, :200] @ pc_all_class[:, :200].T)\n",
    "pc_all_class_784 = (sample_image @ pc_all_class[:, :784] @ pc_all_class[:, :784].T)\n",
    "\n",
    "fig, axs = plt.subplots(2, 3)\n",
    "plt.subplots_adjust(hspace = 0.5)\n",
    "fig.suptitle('Principal Components of All Class Dataset', fontsize = 16)\n",
    "axs[0, 0].set_title('p = 2')\n",
    "axs[0, 0].imshow(pc_all_class_2.reshape((28, 28)), cmap='gray')\n",
    "axs[0, 1].set_title('p = 10')\n",
    "axs[0, 1].imshow(pc_all_class_10.reshape((28, 28)), cmap='gray')\n",
    "axs[0, 2].set_title('p = 50')\n",
    "axs[0, 2].imshow(pc_all_class_50.reshape((28, 28)), cmap='gray')\n",
    "axs[1, 0].set_title('p = 100')\n",
    "axs[1, 0].imshow(pc_all_class_100.reshape((28, 28)), cmap='gray')\n",
    "axs[1, 1].set_title('p = 200')\n",
    "axs[1, 1].imshow(pc_all_class_200.reshape((28, 28)), cmap='gray')\n",
    "axs[1, 2].set_title('p = 784 (Original)')\n",
    "axs[1, 2].imshow(pc_all_class_784.reshape((28, 28)), cmap='gray')"
   ]
  },
  {
   "cell_type": "code",
   "execution_count": 32,
   "metadata": {},
   "outputs": [],
   "source": [
    "# Logistic regression via stochastic gradient descent\n",
    "\n",
    "class LogisticRegression:\n",
    "    \n",
    "    @staticmethod\n",
    "    def sigmoid(x):\n",
    "        # return 1 / (1 + np.exp(-1 * x))\n",
    "        return .5 * (1 + np.tanh(.5 * x))\n",
    "    \n",
    "    @staticmethod\n",
    "    def loss(X, y, w): \n",
    "        # Calculate all y_hat in a batch in matrix [n, k]\n",
    "        y_hat = LogisticRegression.sigmoid(np.dot(X, w))\n",
    "        # Calculate cross-entropy loss\n",
    "        return -1 * (np.dot(y.T, np.log(y_hat + 1E-8)) + np.dot((1 - y).T, np.log(1 - y_hat + 1E-8))).item()\n",
    "    \n",
    "    @staticmethod\n",
    "    def loss_gradient(X, y, w): \n",
    "        y_hat = LogisticRegression.sigmoid(np.dot(X, w))\n",
    "        diff = y - y_hat\n",
    "        # Caulculate gradient\n",
    "        gradient = np.dot(X.T, diff)\n",
    "        return -1 * gradient\n",
    "\n",
    "    @staticmethod\n",
    "    def predict(X, w):\n",
    "        y = LogisticRegression.sigmoid(np.dot(X, w))\n",
    "        # Yield categorical prediction results\n",
    "        return np.array([0 if score <= 0.5 else 1 for score in y]).reshape(-1, 1)\n",
    "\n",
    "    @staticmethod\n",
    "    def batch(X, y, num_batch, index):\n",
    "        # Non-uniform batch\n",
    "        X_folds = np.vsplit(X, num_batch)\n",
    "        y_folds = np.split(y, num_batch)\n",
    "        X_val_set = X_folds[index]\n",
    "        y_val_set = y_folds[index]\n",
    "        X_train_set = [X_folds[i] for i in range(len(X_folds)) if i != index]\n",
    "        y_train_set = [y_folds[i] for i in range(len(y_folds)) if i != index]\n",
    "\n",
    "        return X_train_set, y_train_set, X_val_set, y_val_set\n",
    "\n",
    "    @staticmethod\n",
    "    def accuracy(y_output, y_target): \n",
    "        count = [1 if output == target else 0 for output, target in zip(y_output, y_target)]\n",
    "        return sum(count) / len(y_output)"
   ]
  },
  {
   "cell_type": "code",
   "execution_count": 33,
   "metadata": {},
   "outputs": [],
   "source": [
    "# [1/2] Training - T-shirt & Boots\n",
    "\n",
    "# Number of PCs\n",
    "p = 400\n",
    "\n",
    "# Hyper-parameters\n",
    "learning_rate = 0.01\n",
    "num_batch = 10\n",
    "epoch = 100\n",
    "\n",
    "# Perform PCA on every X_train batch\n",
    "X_train_tshirt_boot_pc = np.vstack([np.ones(len(X_train_tshirt_boot)), (X_train_tshirt_boot @ pc_tshirt_boot[:,:p]).T]).T\n",
    "X_test_tshirt_boot_pc = np.vstack([np.ones(len(X_test_tshirt_boot)), (X_test_tshirt_boot @ pc_tshirt_boot[:,:p]).T]).T "
   ]
  },
  {
   "cell_type": "code",
   "execution_count": null,
   "metadata": {
    "scrolled": false
   },
   "outputs": [],
   "source": [
    "best_loss = float('inf')\n",
    "best_w = np.zeros((p + 1, 1))\n",
    "\n",
    "# Train <num_batch> rounds\n",
    "for i in range(num_batch):\n",
    "    # Disassemble X_train and Y_train into <num_batch> batches, and select folds based on i.\n",
    "    X_train_set, y_train_set, X_val_set, y_val_set = LogisticRegression.batch(X_train_tshirt_boot_pc, y_train_tshirt_boot, num_batch, i)\n",
    "    \n",
    "    # Reset w\n",
    "    w = np.zeros((p + 1, 1))\n",
    "    \n",
    "    # Train <epoch> rounds with 9 folds of X_train_set and 1 fold of X_val_set\n",
    "    for trial in range(epoch):\n",
    "        \n",
    "        # Randomize the order of the indices into the training set\n",
    "        shuffled_indices = np.random.permutation(len(X_train_set))\n",
    "        \n",
    "        # Decrease W value every folds, prevent over fitting as well\n",
    "        for j in shuffled_indices:\n",
    "            w = w - learning_rate * LogisticRegression.loss_gradient(X_train_set[j], y_train_set[j], w)\n",
    "        \n",
    "        # Predict with X_val_set using trained W and compare with target\n",
    "        y = LogisticRegression.predict(X_val_set, w)\n",
    "        # print('Epoch', trial, '/', epoch, ', accuarcy:', accuracy(y, y_val_set))\n",
    "        \n",
    "    fold_loss = LogisticRegression.loss(X_val_set, y_val_set, w)\n",
    "    \n",
    "    if (fold_loss < best_loss):\n",
    "        best_loss = fold_loss\n",
    "        best_w = w\n",
    "        print('[+] Fold', i, 'Loss', fold_loss)\n",
    "    else:\n",
    "        print('Fold', i, 'Loss', fold_loss)\n",
    "\n",
    "w = best_w\n",
    "        \n",
    "# Testing with test set\n",
    "y_test_prediction = LogisticRegression.predict(X_test_tshirt_boot_pc, w)\n",
    "\n",
    "print(\"Final accuracy: \", LogisticRegression.accuracy(y_test_prediction, y_test_tshirt_boot))"
   ]
  },
  {
   "cell_type": "code",
   "execution_count": 36,
   "metadata": {},
   "outputs": [],
   "source": [
    "# [2/2] Training - Pullover & Coat\n",
    "\n",
    "# Number of PCs\n",
    "p = 400\n",
    "\n",
    "# Hyper-parameters\n",
    "learning_rate = 0.01\n",
    "num_batch = 10\n",
    "epoch = 100\n",
    "\n",
    "X_train_pullover_coat_pc = np.vstack([np.ones(len(X_train_pullover_coat)), (X_train_pullover_coat @ pc_pullover_coat[:,:p]).T]).T\n",
    "X_test_pullover_coat_pc = np.vstack([np.ones(len(X_test_pullover_coat)), (X_test_pullover_coat @ pc_pullover_coat[:,:p]).T]).T"
   ]
  },
  {
   "cell_type": "code",
   "execution_count": 40,
   "metadata": {},
   "outputs": [
    {
     "name": "stdout",
     "output_type": "stream",
     "text": [
      "[+] Fold 0 Loss 2772.0782045404876\n",
      "Fold 1 Loss 8165.307617363947\n",
      "Fold 2 Loss 3766.4563910098695\n",
      "Fold 3 Loss 3641.5084827774654\n",
      "Fold 4 Loss 3493.7216511827933\n",
      "Fold 5 Loss 3809.011805693078\n",
      "Fold 6 Loss 3166.655121424372\n",
      "[+] Fold 7 Loss 2480.9362094238854\n",
      "Fold 8 Loss 4067.4758088728695\n",
      "Fold 9 Loss 5189.989518893093\n",
      "final accuracy: 0.845\n"
     ]
    }
   ],
   "source": [
    "best_loss = float('inf')\n",
    "best_w = np.zeros((p + 1, 1))\n",
    "\n",
    "# Train <num_batch> rounds\n",
    "for i in range(num_batch):\n",
    "    # Disassemble X_train and Y_train into <num_batch> batches, and select folds based on i.\n",
    "    X_train_set, y_train_set, X_val_set, y_val_set = LogisticRegression.batch(X_train_pullover_coat_pc, y_train_pullover_coat, num_batch, i)\n",
    "    \n",
    "    # Reset w\n",
    "    w = np.zeros((p + 1, 1))\n",
    "    \n",
    "    # Train <epoch> rounds with 9 folds of X_train_set and 1 fold of X_val_set\n",
    "    for trial in range(epoch):\n",
    "        \n",
    "        # Randomize the order of the indices into the training set\n",
    "        shuffled_indices = np.random.permutation(len(X_train_set))\n",
    "        \n",
    "        # Decrease W value every folds, prevent over fitting as well\n",
    "        for j in shuffled_indices:\n",
    "            w = w - learning_rate * LogisticRegression.loss_gradient(X_train_set[j], y_train_set[j], w)\n",
    "        \n",
    "        # Predict with X_val_set using trained W and compare with target\n",
    "        y = LogisticRegression.predict(X_val_set, w)\n",
    "        # print('Epoch', trial, '/', epoch, ', accuarcy:', accuracy(y, y_val_set))\n",
    "        \n",
    "    fold_loss = LogisticRegression.loss(X_val_set, y_val_set, w)\n",
    "    \n",
    "    if (fold_loss < best_loss):\n",
    "        best_loss = fold_loss\n",
    "        best_w = w\n",
    "        print('[+] Fold', i, 'Loss', fold_loss)\n",
    "    else:\n",
    "        print('Fold', i, 'Loss', fold_loss)\n",
    "        \n",
    "w = best_w\n",
    "\n",
    "# Testing with test set\n",
    "y_test_prediction = LogisticRegression.predict(X_test_pullover_coat_pc, w)\n",
    "\n",
    "print(\"final accuracy:\", LogisticRegression.accuracy(y_test_prediction, y_test_pullover_coat))"
   ]
  },
  {
   "cell_type": "code",
   "execution_count": 75,
   "metadata": {},
   "outputs": [],
   "source": [
    "# Softmax Regression\n",
    "\n",
    "class SoftmaxRegression: \n",
    "    \n",
    "    @staticmethod\n",
    "    def softmax(x): \n",
    "        return np.exp(x) / np.sum(np.exp(x), axis=1).reshape(-1, 1)\n",
    "    \n",
    "    @staticmethod\n",
    "    def loss(X, y, w):\n",
    "        y_hat = SoftmaxRegression.softmax(np.dot(X, w.T))\n",
    "        return -1 * np.sum(y * np.log(y_hat + 1E-8))\n",
    "    \n",
    "    @staticmethod\n",
    "    def loss_gradient(X, y, w): \n",
    "        y_hat = SoftmaxRegression.softmax(np.dot(X, w.T))\n",
    "        diff = y - y_hat\n",
    "        gradient = np.dot(X.T, diff).T\n",
    "        return -1 * gradient\n",
    "        \n",
    "    @staticmethod\n",
    "    def predict(X, w):\n",
    "        return np.dot(X, w.T)\n",
    "    \n",
    "    @staticmethod\n",
    "    def batch(X, y, num_batch, index):\n",
    "        # Non-uniform batch\n",
    "        X_folds = np.vsplit(X, num_batch)\n",
    "        y_folds = np.split(y, num_batch)\n",
    "        X_val_set = X_folds[index]\n",
    "        y_val_set = y_folds[index]\n",
    "        X_train_set = [X_folds[i] for i in range(len(X_folds)) if i != index]\n",
    "        y_train_set = [y_folds[i] for i in range(len(y_folds)) if i != index]\n",
    "\n",
    "        return X_train_set, y_train_set, X_val_set, y_val_set\n",
    "\n",
    "    @staticmethod\n",
    "    def accuracy(y_output, y_target):\n",
    "        return 0\n",
    "    \n"
   ]
  },
  {
   "cell_type": "code",
   "execution_count": 43,
   "metadata": {},
   "outputs": [],
   "source": [
    "# Training - Softmax All\n",
    "\n",
    "# Number of PCs\n",
    "p = 400\n",
    "\n",
    "# Hyper-parameters\n",
    "learning_rate = 0.01\n",
    "num_batch = 10\n",
    "epoch = 100\n",
    "\n",
    "X_train_all_class_pc = np.vstack([np.ones(len(X_train_all_class)), (X_train_all_class @ pc_all_class[:,:p]).T]).T\n",
    "X_test_all_class_pc = np.vstack([np.ones(len(X_test_all_class)), (X_test_all_class @ pc_all_class[:,:p]).T]).T"
   ]
  },
  {
   "cell_type": "code",
   "execution_count": null,
   "metadata": {},
   "outputs": [],
   "source": [
    "best_loss = float('inf')\n",
    "best_w = np.zeros((p + 1, 1))\n",
    "\n",
    "# Train <num_batch> rounds\n",
    "for i in range(num_batch):\n",
    "    # Disassemble X_train and Y_train into <num_batch> batches, and select folds based on i.\n",
    "    X_train_set, y_train_set, X_val_set, y_val_set = SoftmaxRegression.batch(X_train_all_class_pc, y_train_all_class, num_batch, i)\n",
    "    \n",
    "    # Reset w\n",
    "    w = np.zeros((10, p + 1))\n",
    "    \n",
    "    # Train <epoch> rounds with 9 folds of X_train_set and 1 fold of X_val_set\n",
    "    for trial in range(epoch):\n",
    "        \n",
    "        # Randomize the order of the indices into the training set\n",
    "        shuffled_indices = np.random.permutation(len(X_train_set))\n",
    "        \n",
    "        # Decrease W value every folds, prevent over fitting as well\n",
    "        for j in shuffled_indices:\n",
    "            w = w - learning_rate * SoftmaxRegression.loss_gradient(X_train_set[j], y_train_set[j], w)\n",
    "        \n",
    "        # Predict with X_val_set using trained W and compare with target\n",
    "        # y = SoftmaxRegression.predict(X_val_set, w)\n",
    "        # print('Epoch', trial, '/', epoch, ', accuarcy:', accuracy(y, y_val_set))\n",
    "        \n",
    "    fold_loss = SoftmaxRegression.loss(X_val_set, y_val_set, w)\n",
    "    \n",
    "    if (fold_loss < best_loss):\n",
    "        best_loss = fold_loss\n",
    "        best_w = w\n",
    "        print('[+] Fold', i, 'Loss', fold_loss)\n",
    "    else:\n",
    "        print('Fold', i, 'Loss', fold_loss)"
   ]
  },
  {
   "cell_type": "code",
   "execution_count": 76,
   "metadata": {},
   "outputs": [
    {
     "data": {
      "text/plain": [
       "array([[0.00016667, 0.00016667, 0.00016667, ..., 0.00016667, 0.00016667,\n",
       "        0.00016667],\n",
       "       [0.00016667, 0.00016667, 0.00016667, ..., 0.00016667, 0.00016667,\n",
       "        0.00016667],\n",
       "       [0.00016667, 0.00016667, 0.00016667, ..., 0.00016667, 0.00016667,\n",
       "        0.00016667],\n",
       "       ...,\n",
       "       [0.00016667, 0.00016667, 0.00016667, ..., 0.00016667, 0.00016667,\n",
       "        0.00016667],\n",
       "       [0.00016667, 0.00016667, 0.00016667, ..., 0.00016667, 0.00016667,\n",
       "        0.00016667],\n",
       "       [0.00016667, 0.00016667, 0.00016667, ..., 0.00016667, 0.00016667,\n",
       "        0.00016667]])"
      ]
     },
     "execution_count": 76,
     "metadata": {},
     "output_type": "execute_result"
    }
   ],
   "source": [
    "X_train_set, y_train_set, X_val_set, y_val_set = SoftmaxRegression.batch(X_train_all_class_pc, y_train_all_class, num_batch, 0)\n",
    "\n",
    "j = 0\n",
    "\n",
    "epoch = 1\n",
    "\n",
    "X_train_set[j].shape # 6000, 401\n",
    "\n",
    "y_train_set[j].shape # 6000, 10\n",
    "\n",
    "# Reset w\n",
    "w = np.zeros((10, p + 1)) # 10, 401\n",
    "\n",
    "SoftmaxRegression.softmax(np.dot(X_train_set[j], w.T).T) # 10, 6000\n",
    "\n",
    "# # Train <epoch> rounds with 9 folds of X_train_set and 1 fold of X_val_set\n",
    "# for trial in range(epoch):\n",
    "\n",
    "#     # Randomize the order of the indices into the training set\n",
    "#     shuffled_indices = np.random.permutation(len(X_train_set))\n",
    "\n",
    "#     # Decrease W value every folds, prevent over fitting as well\n",
    "#     for j in shuffled_indices:\n",
    "#         w = w - learning_rate * SoftmaxRegression.loss_gradient(X_train_set[j], y_train_set[j], w)\n",
    "\n",
    "#     # Predict with X_val_set using trained W and compare with target\n",
    "#     # y = SoftmaxRegression.predict(X_val_set, w)\n",
    "#     # print('Epoch', trial, '/', epoch, ', accuarcy:', accuracy(y, y_val_set))\n",
    "\n",
    "\n"
   ]
  }
 ],
 "metadata": {
  "kernelspec": {
   "display_name": "Python 3",
   "language": "python",
   "name": "python3"
  },
  "language_info": {
   "codemirror_mode": {
    "name": "ipython",
    "version": 3
   },
   "file_extension": ".py",
   "mimetype": "text/x-python",
   "name": "python",
   "nbconvert_exporter": "python",
   "pygments_lexer": "ipython3",
   "version": "3.8.2"
  }
 },
 "nbformat": 4,
 "nbformat_minor": 4
}
