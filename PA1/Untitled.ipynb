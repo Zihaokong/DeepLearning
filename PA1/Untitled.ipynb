{
 "cells": [
  {
   "cell_type": "markdown",
   "metadata": {},
   "source": [
    "## Data normalize and one hot labeling"
   ]
  },
  {
   "cell_type": "code",
   "execution_count": 108,
   "metadata": {},
   "outputs": [],
   "source": [
    "import numpy as np\n",
    "from fashion_mnist_dataset.utils import mnist_reader\n",
    "from PIL import Image\n",
    "import matplotlib.pyplot as plt\n",
    "import matplotlib.cm as cm\n",
    "\n",
    "\n",
    "#get dataset\n",
    "X_train, Y_train = mnist_reader.load_mnist('fashion_mnist_dataset/data/fashion',kind='train')\n",
    "X_test, Y_test = mnist_reader.load_mnist('fashion_mnist_dataset/data/fashion',kind='t10k')\n",
    "\n",
    "\n",
    "#storing all boot and Tshirt pictures and its corresponding labels.\n",
    "X_boot_tshirt = []\n",
    "Y_boot_tshirt = []\n",
    "for i in range(len(Y_train)):\n",
    "    #if label is 9, we append the picture, giving it new label 1.\n",
    "    if Y_train[i] == 9:\n",
    "        X_boot_tshirt.append(X_train[i,:])\n",
    "        Y_boot_tshirt.append(1)\n",
    "    #if label is 0, we append the picture and giving it label 0\n",
    "    elif Y_train[i] == 0:\n",
    "        X_boot_tshirt.append(X_train[i,:])\n",
    "        Y_boot_tshirt.append(Y_train[i])\n",
    "  \n",
    "Y_boot_tshirt = np.array(Y_boot_tshirt).reshape((len(Y_boot_tshirt),1))\n",
    "X_boot_tshirt = np.array(X_boot_tshirt)\n",
    "\n",
    "\n",
    "\n",
    "X_pullover_coat = []\n",
    "Y_pullover_coat = []\n",
    "for i in range(len(Y_train)):\n",
    "    #if label is 9, we append the picture, giving it new label 1.\n",
    "    if Y_train[i] == 2:\n",
    "        X_pullover_coat.append(X_train[i,:])\n",
    "        Y_pullover_coat.append(1)\n",
    "    #if label is 0, we append the picture and giving it label 0\n",
    "    elif Y_train[i] == 4:\n",
    "        X_pullover_coat.append(X_train[i,:])\n",
    "        Y_pullover_coat.append(0)\n",
    "  \n",
    "Y_pullover_coat = np.array(Y_pullover_coat).reshape((len(Y_pullover_coat),1))\n",
    "X_pullover_coat = np.array(X_pullover_coat)\n",
    "\n",
    "\n",
    "\n"
   ]
  },
  {
   "cell_type": "code",
   "execution_count": 109,
   "metadata": {},
   "outputs": [
    {
     "name": "stdout",
     "output_type": "stream",
     "text": [
      "X boot tshirt type and size : <class 'numpy.ndarray'> (12000, 784)\n",
      "Y boot tshirt type and size : <class 'numpy.ndarray'> (12000, 1)\n",
      "X pullover coat type and size : <class 'numpy.ndarray'> (12000, 784)\n",
      "Y pullover coat type and size : <class 'numpy.ndarray'> (12000, 1)\n"
     ]
    }
   ],
   "source": [
    "print(\"X boot tshirt type and size :\",type(X_boot_tshirt),X_boot_tshirt.shape)\n",
    "print(\"Y boot tshirt type and size :\",type(Y_boot_tshirt),Y_boot_tshirt.shape)\n",
    "print(\"X pullover coat type and size :\",type(X_pullover_coat),X_pullover_coat.shape)\n",
    "print(\"Y pullover coat type and size :\",type(Y_pullover_coat),Y_pullover_coat.shape)"
   ]
  },
  {
   "cell_type": "code",
   "execution_count": 133,
   "metadata": {},
   "outputs": [],
   "source": [
    "def normalize_axis(vect):\n",
    "    ma = max(vect)\n",
    "    mi = min(vect)\n",
    "    if ma-mi == 0:\n",
    "        pass\n",
    "    else:\n",
    "        vect = (vect-mi)/(ma-mi)\n",
    "    return vect\n",
    "X_train_boot_tshirt_norm = np.apply_along_axis(normalize_axis, 0, X_boot_tshirt)\n",
    "\n",
    "X_train_pullover_coat_norm = np.apply_along_axis(normalize_axis, 0, X_pullover_coat)\n",
    "\n",
    "X_train_norm = np.apply_along_axis(normalize_axis, 0, X_train)"
   ]
  },
  {
   "cell_type": "code",
   "execution_count": 134,
   "metadata": {},
   "outputs": [
    {
     "name": "stdout",
     "output_type": "stream",
     "text": [
      "X normalized:  (12000, 784)\n",
      "X normalized:  (12000, 784)\n",
      "X normalized:  (60000, 784)\n"
     ]
    }
   ],
   "source": [
    "print(\"X normalized: \",X_train_boot_tshirt_norm.shape)\n",
    "print(\"X normalized: \",X_train_pullover_coat_norm.shape)\n",
    "print(\"X normalized: \",X_train_norm.shape)\n"
   ]
  },
  {
   "cell_type": "code",
   "execution_count": 135,
   "metadata": {},
   "outputs": [],
   "source": [
    "def PCA(A):\n",
    "    mean = np.mean(A,0)\n",
    "    A_mean = A-mean\n",
    "    A_mean_T = A_mean.transpose()\n",
    "    n = A_mean.shape[0]\n",
    "    C=np.matmul(A_mean_T,A_mean)/(n-1)\n",
    "    eigenVal,eigenVect = np.linalg.eigh(C)\n",
    "    return eigenVect\n",
    "\n",
    "\n",
    "\n",
    "eig = PCA(X_train_boot_tshirt_norm)\n",
    "eig_pull = PCA(X_train_pullover_coat_norm)\n",
    "eig_whole = PCA(X_train_norm)"
   ]
  },
  {
   "cell_type": "code",
   "execution_count": 136,
   "metadata": {},
   "outputs": [
    {
     "name": "stdout",
     "output_type": "stream",
     "text": [
      "EigenVector of Cov matrix:  (784, 784)\n",
      "EigenVector of Cov matrix:  (784, 784)\n",
      "EigenVector of Cov matrix:  (784, 784)\n"
     ]
    }
   ],
   "source": [
    "print(\"EigenVector of Cov matrix: \", eig.shape)\n",
    "print(\"EigenVector of Cov matrix: \", eig_pull.shape)\n",
    "print(\"EigenVector of Cov matrix: \", eig_whole.shape)"
   ]
  },
  {
   "cell_type": "markdown",
   "metadata": {},
   "source": [
    "## PCA plotting (1)"
   ]
  },
  {
   "cell_type": "code",
   "execution_count": 139,
   "metadata": {},
   "outputs": [
    {
     "data": {
      "image/png": "[encoded data removed]",
      "text/plain": [
       "<Figure size 432x288 with 9 Axes>"
      ]
     },
     "metadata": {
      "needs_background": "light"
     },
     "output_type": "display_data"
    }
   ],
   "source": [
    "recon2 = np.matmul(eig_pull[:,-2:],eig_pull[:,-2:].transpose())\n",
    "recon10 = np.matmul(eig_pull[:,-10:],eig_pull[:,-10:].transpose())\n",
    "recon50 = np.matmul(eig_pull[:,-50:],eig_pull[:,-50:].transpose())\n",
    "recon100 = np.matmul(eig_pull[:,-100:],eig_pull[:,-100:].transpose())\n",
    "recon200 = np.matmul(eig_pull[:,-200:],eig_pull[:,-200:].transpose())\n",
    "recon784 = np.matmul(eig_pull[:,-784:],eig_pull[:,-784:].transpose())\n",
    "\n",
    "test_pic = X_train_pullover_coat_norm[5]\n",
    "\n",
    "test_pic2 = np.matmul(test_pic, recon2)\n",
    "test_pic10 = np.matmul(test_pic, recon10)\n",
    "test_pic50 = np.matmul(test_pic, recon50)\n",
    "test_pic100 = np.matmul(test_pic, recon100)\n",
    "test_pic200 = np.matmul(test_pic, recon200)\n",
    "test_pic784 = np.matmul(test_pic, recon784)\n",
    "\n",
    "\n",
    "fig, axs = plt.subplots(3, 3)\n",
    "axs[0, 0].imshow(test_pic2.reshape((28,28)), cmap='gray')\n",
    "axs[0, 0].set_title('P=2')\n",
    "axs[0, 1].imshow(test_pic10.reshape((28,28)), cmap='gray')\n",
    "axs[0, 1].set_title('P=10')\n",
    "axs[0, 2].imshow(test_pic50.reshape((28,28)), cmap='gray')\n",
    "axs[0, 2].set_title('P=50')\n",
    "axs[1, 0].imshow(test_pic100.reshape((28,28)), cmap='gray')\n",
    "axs[1, 0].set_title('P=100')\n",
    "axs[1, 1].imshow(test_pic200.reshape((28,28)), cmap='gray')\n",
    "axs[1, 1].set_title('P=200')\n",
    "axs[1, 2].imshow(test_pic784.reshape((28,28)), cmap='gray')\n",
    "axs[1, 2].set_title('P=784')\n",
    "axs[2, 2].imshow(test_pic.reshape((28,28)), cmap='gray')\n",
    "axs[2, 2].set_title('Original Image')\n",
    "plt.subplots_adjust(hspace=0.5)\n",
    " \n",
    "\n",
    "# Hide x labels and tick labels for top plots and y ticks for right plots.\n",
    "for ax in axs.flat:\n",
    "    ax.label_outer()\n",
    "plt.savefig('./fia.jpg')"
   ]
  },
  {
   "cell_type": "markdown",
   "metadata": {},
   "source": [
    "## PCA plotting (2)"
   ]
  },
  {
   "cell_type": "code",
   "execution_count": null,
   "metadata": {},
   "outputs": [],
   "source": []
  },
  {
   "cell_type": "code",
   "execution_count": 531,
   "metadata": {},
   "outputs": [
    {
     "name": "stdout",
     "output_type": "stream",
     "text": [
      "10\n"
     ]
    }
   ],
   "source": [
    "class LogRegression(): \n",
    "    __batch_size = 0\n",
    "    \n",
    "    def __init__(self, X_train, Y_train,lr,epoches,k):\n",
    "        self.X_train = X_train\n",
    "        self.Y_train= Y_train\n",
    "        self.lr = lr\n",
    "        self.epoches = epoches\n",
    "        self.w = np.zeros((X_train.shape[1],1))\n",
    "        self.k = k\n",
    "        \n",
    "    #split the train data into K batches. \n",
    "    def batch(self):\n",
    "        self.X_train = np.vsplit(self.X_train,self.k)\n",
    "        self.Y_train = np.split(self.Y_train,self.k)\n",
    "        self.batch_size = self.X_train[0].shape[0]\n",
    "    \n",
    "    @staticmethod\n",
    "    def sigmoid(x):\n",
    "        return 1/(1 + np.exp(-x))\n",
    "    \n",
    "      def __input(self,x,w):\n",
    "        return np.dot(x,w)\n",
    "    \n",
    "    def y_predict(self,x,w):\n",
    "        return self.sigmoid(self.__input(x,w))\n",
    "\n",
    "    def loss(self,y_train,w,x,batch_size):\n",
    "        sum = 0\n",
    "        for i in range(batch_size):\n",
    "            part1 = y_train[i]*np.log(self.y_predict(x[i,:],w))\n",
    "            part2 = (1-y_train[i])*np.log(1-np.log(self.y_predict(x[i,:],w)))\n",
    "            sum = part1+part2\n",
    "        sum = -1*sum\n",
    "        return sum\n",
    "    \n",
    "    \n",
    "    def loss_gradient(self,y_train,w,X,batch_size):\n",
    "        diff = y_train - self.y_predict(x,w)\n",
    "        print(diff)\n",
    "        gradient = np.dot(x.transpose(),diff)\n",
    "        return gradient\n",
    "    \n",
    "            \n",
    "model = LogRegression(X_train_boot_tshirt_norm,np.array(Y_boot_tshirt),3,0.01,10)\n",
    "\n",
    "\n",
    "\n",
    "\n",
    "model.batch()\n",
    "\n",
    "print(len(model.X_train))\n",
    "\n",
    "\n"
   ]
  },
  {
   "cell_type": "code",
   "execution_count": 593,
   "metadata": {},
   "outputs": [],
   "source": [
    "\n",
    "train = model.X_train\n",
    "train = np.dot(train,eig)\n",
    "    \n",
    "for i in range(model.k):\n",
    "    val_set = train[i]\n",
    "    train_set = [ train[x] for x in range(len(train)) if x != i]\n",
    "    train_set = np.concatenate(train_set) \n",
    "    for i in range(model.epoches):\n",
    "        model.train()\n",
    "    \n",
    "\n"
   ]
  },
  {
   "cell_type": "code",
   "execution_count": null,
   "metadata": {},
   "outputs": [],
   "source": []
  },
  {
   "cell_type": "code",
   "execution_count": null,
   "metadata": {},
   "outputs": [],
   "source": []
  },
  {
   "cell_type": "code",
   "execution_count": null,
   "metadata": {},
   "outputs": [],
   "source": []
  }
 ],
 "metadata": {
  "kernelspec": {
   "display_name": "Python 3",
   "language": "python",
   "name": "python3"
  },
  "language_info": {
   "codemirror_mode": {
    "name": "ipython",
    "version": 3
   },
   "file_extension": ".py",
   "mimetype": "text/x-python",
   "name": "python",
   "nbconvert_exporter": "python",
   "pygments_lexer": "ipython3",
   "version": "3.7.3"
  }
 },
 "nbformat": 4,
 "nbformat_minor": 4
}
