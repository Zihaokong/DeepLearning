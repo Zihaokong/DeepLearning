{
 "cells": [
  {
   "cell_type": "markdown",
   "metadata": {},
   "source": [
    "## Data normalize and one hot labeling"
   ]
  },
  {
   "cell_type": "code",
   "execution_count": 46,
   "metadata": {},
   "outputs": [],
   "source": [
    "import numpy as np\n",
    "from fashion_mnist_dataset.utils import mnist_reader\n",
    "from PIL import Image\n",
    "import matplotlib.pyplot as plt\n",
    "import matplotlib.cm as cm\n",
    "\n",
    "\n",
    "#get dataset\n",
    "X_train, Y_train = mnist_reader.load_mnist('fashion_mnist_dataset/data/fashion',kind='train')\n",
    "X_test, Y_test = mnist_reader.load_mnist('fashion_mnist_dataset/data/fashion',kind='t10k')\n",
    "\n",
    "\n",
    "#storing all boot and Tshirt pictures and its corresponding labels.\n",
    "X_boot_tshirt = []\n",
    "Y_boot_tshirt = []\n",
    "for i in range(len(Y_train)):\n",
    "    #if label is 9, we append the picture, giving it new label 1.\n",
    "    if Y_train[i] == 9:\n",
    "        X_boot_tshirt.append(X_train[i,:])\n",
    "        Y_boot_tshirt.append(1)\n",
    "    #if label is 0, we append the picture and giving it label 0\n",
    "    elif Y_train[i] == 0:\n",
    "        X_boot_tshirt.append(X_train[i,:])\n",
    "        Y_boot_tshirt.append(Y_train[i])\n",
    "  \n",
    "Y_boot_tshirt = np.array(Y_boot_tshirt).reshape((len(Y_boot_tshirt),1))\n",
    "X_boot_tshirt = np.array(X_boot_tshirt)"
   ]
  },
  {
   "cell_type": "code",
   "execution_count": 47,
   "metadata": {},
   "outputs": [
    {
     "name": "stdout",
     "output_type": "stream",
     "text": [
      "X boot tshirt type and size : <class 'numpy.ndarray'> (12000, 784)\n",
      "Y boot tshirt type and size : <class 'numpy.ndarray'> (12000, 1)\n"
     ]
    }
   ],
   "source": [
    "print(\"X boot tshirt type and size :\",type(X_boot_tshirt),X_boot_tshirt.shape)\n",
    "print(\"Y boot tshirt type and size :\",type(Y_boot_tshirt),Y_boot_tshirt.shape)"
   ]
  },
  {
   "cell_type": "code",
   "execution_count": 48,
   "metadata": {},
   "outputs": [],
   "source": [
    "def normalize_axis(vect):\n",
    "    ma = max(vect)\n",
    "    mi = min(vect)\n",
    "    vect = (vect-mi)/(ma-mi)\n",
    "    return vect\n",
    "X_train_boot_tshirt_norm = np.apply_along_axis(normalize_axis, 0, X_boot_tshirt)"
   ]
  },
  {
   "cell_type": "code",
   "execution_count": 49,
   "metadata": {},
   "outputs": [
    {
     "name": "stdout",
     "output_type": "stream",
     "text": [
      "X normalized:  (12000, 784)\n"
     ]
    }
   ],
   "source": [
    "print(\"X normalized: \",X_train_boot_tshirt_norm.shape)"
   ]
  },
  {
   "cell_type": "code",
   "execution_count": 51,
   "metadata": {},
   "outputs": [
    {
     "name": "stdout",
     "output_type": "stream",
     "text": [
      "[1.04752787e-05 1.32869630e-05 1.73204750e-05 2.20472537e-05\n",
      " 3.16682928e-05 3.63240633e-05 4.62640292e-05 5.79256434e-05\n",
      " 5.92071102e-05 6.15809420e-05 6.63769689e-05 7.27952538e-05\n",
      " 7.40963732e-05 7.77914694e-05 8.39039907e-05 8.97477890e-05\n",
      " 9.09693461e-05 9.66881242e-05 1.11970459e-04 1.15376960e-04\n",
      " 1.23147045e-04 1.32763733e-04 1.39543448e-04 1.45356874e-04\n",
      " 1.48850408e-04 1.59251174e-04 1.62059316e-04 1.68894007e-04\n",
      " 1.77670583e-04 1.86113284e-04 1.98590025e-04 2.02168550e-04\n",
      " 2.19271994e-04 2.26343310e-04 2.31386041e-04 2.39597585e-04\n",
      " 2.52127531e-04 2.60495225e-04 2.69103369e-04 2.75432293e-04\n",
      " 2.77435322e-04 2.85827341e-04 2.93530749e-04 3.03880894e-04\n",
      " 3.11172026e-04 3.13669125e-04 3.21302833e-04 3.24274279e-04\n",
      " 3.38937689e-04 3.49973850e-04 3.56515583e-04 3.60802181e-04\n",
      " 3.63429630e-04 3.82142926e-04 4.01374006e-04 4.05157409e-04\n",
      " 4.23220405e-04 4.31865615e-04 4.44279885e-04 4.47731587e-04\n",
      " 4.53654583e-04 4.63188289e-04 4.72614253e-04 4.79133022e-04\n",
      " 4.89908797e-04 4.98811541e-04 5.08832642e-04 5.13133518e-04\n",
      " 5.31108872e-04 5.37241349e-04 5.47078472e-04 5.55129954e-04\n",
      " 5.65222726e-04 5.69456277e-04 5.87041668e-04 5.95910067e-04\n",
      " 6.02053467e-04 6.07605327e-04 6.15233338e-04 6.33303573e-04\n",
      " 6.41925962e-04 6.46585833e-04 6.55909473e-04 6.68208866e-04\n",
      " 6.78583371e-04 6.81486519e-04 6.91323546e-04 6.95163810e-04\n",
      " 7.06650370e-04 7.19845293e-04 7.27609307e-04 7.30770978e-04\n",
      " 7.44796102e-04 7.52180961e-04 7.64025582e-04 7.74138809e-04\n",
      " 7.83833502e-04 7.91771733e-04 8.07996154e-04 8.10793607e-04\n",
      " 8.18817219e-04 8.29710753e-04 8.46187945e-04 8.47172820e-04\n",
      " 8.64634679e-04 8.69095754e-04 8.78938935e-04 8.83115575e-04\n",
      " 9.00529270e-04 9.09395622e-04 9.19185918e-04 9.32430021e-04\n",
      " 9.39842047e-04 9.47811484e-04 9.60454089e-04 9.68951057e-04\n",
      " 9.77775901e-04 9.85324433e-04 9.89755785e-04 9.91450955e-04\n",
      " 1.00263084e-03 1.02082672e-03 1.03226815e-03 1.04094163e-03\n",
      " 1.05162541e-03 1.06414588e-03 1.07331108e-03 1.07912833e-03\n",
      " 1.08628292e-03 1.09253695e-03 1.09998091e-03 1.11169158e-03\n",
      " 1.12138897e-03 1.13039323e-03 1.13901147e-03 1.14817310e-03\n",
      " 1.14923864e-03 1.16820890e-03 1.17192007e-03 1.17435838e-03\n",
      " 1.18645917e-03 1.20261742e-03 1.21615842e-03 1.22685186e-03\n",
      " 1.23069117e-03 1.24843253e-03 1.25459860e-03 1.26415292e-03\n",
      " 1.27173212e-03 1.28721599e-03 1.30018460e-03 1.31329869e-03\n",
      " 1.31991979e-03 1.32720916e-03 1.33682119e-03 1.34801877e-03\n",
      " 1.35747364e-03 1.36543662e-03 1.37247134e-03 1.38498152e-03\n",
      " 1.39491675e-03 1.41474305e-03 1.41796481e-03 1.42913654e-03\n",
      " 1.44741648e-03 1.45259715e-03 1.46447220e-03 1.47542854e-03\n",
      " 1.48277324e-03 1.49107827e-03 1.50317409e-03 1.50963479e-03\n",
      " 1.51567707e-03 1.52216170e-03 1.53897113e-03 1.56226907e-03\n",
      " 1.56987307e-03 1.58299975e-03 1.59102683e-03 1.60103449e-03\n",
      " 1.60689726e-03 1.62384126e-03 1.62509930e-03 1.63471617e-03\n",
      " 1.64105198e-03 1.66667498e-03 1.67261313e-03 1.68190860e-03\n",
      " 1.69092144e-03 1.69910700e-03 1.71030066e-03 1.71675135e-03\n",
      " 1.73681608e-03 1.74402333e-03 1.75460189e-03 1.75789982e-03\n",
      " 1.77113049e-03 1.79037995e-03 1.79137140e-03 1.80792421e-03\n",
      " 1.81051116e-03 1.82664846e-03 1.84081697e-03 1.85780911e-03\n",
      " 1.86234966e-03 1.86905063e-03 1.88202652e-03 1.89909526e-03\n",
      " 1.90475035e-03 1.91571446e-03 1.92921647e-03 1.93592803e-03\n",
      " 1.95713423e-03 1.97016264e-03 2.00530351e-03 2.02095827e-03\n",
      " 2.02519014e-03 2.02990666e-03 2.04276560e-03 2.04885621e-03\n",
      " 2.06388813e-03 2.07029765e-03 2.09345041e-03 2.10216779e-03\n",
      " 2.11795403e-03 2.12187216e-03 2.14150199e-03 2.15140636e-03\n",
      " 2.15432546e-03 2.17014630e-03 2.18896157e-03 2.20576026e-03\n",
      " 2.22217365e-03 2.22998305e-03 2.24176520e-03 2.25282108e-03\n",
      " 2.27075635e-03 2.28411728e-03 2.29210174e-03 2.30696696e-03\n",
      " 2.31626528e-03 2.33525978e-03 2.33930836e-03 2.35267622e-03\n",
      " 2.36000563e-03 2.38450794e-03 2.39628428e-03 2.40576562e-03\n",
      " 2.42315449e-03 2.43683727e-03 2.44565695e-03 2.46817751e-03\n",
      " 2.48025058e-03 2.50283287e-03 2.51788427e-03 2.52903686e-03\n",
      " 2.53147343e-03 2.55067479e-03 2.56179765e-03 2.57164468e-03\n",
      " 2.58125619e-03 2.58735769e-03 2.61493574e-03 2.62585831e-03\n",
      " 2.63786559e-03 2.65391327e-03 2.66934320e-03 2.67438166e-03\n",
      " 2.69715251e-03 2.69910413e-03 2.72534332e-03 2.74137777e-03\n",
      " 2.76699315e-03 2.77244283e-03 2.78265278e-03 2.80840192e-03\n",
      " 2.83031355e-03 2.83773114e-03 2.85606651e-03 2.87255037e-03\n",
      " 2.88304378e-03 2.91247074e-03 2.93885700e-03 2.94641005e-03\n",
      " 2.96734619e-03 2.97618278e-03 2.99155805e-03 3.00084966e-03\n",
      " 3.01646143e-03 3.02212719e-03 3.04450829e-03 3.06496975e-03\n",
      " 3.07694377e-03 3.08246150e-03 3.10063944e-03 3.10669456e-03\n",
      " 3.11634705e-03 3.13376379e-03 3.16209268e-03 3.17579313e-03\n",
      " 3.18048524e-03 3.19412991e-03 3.22800818e-03 3.23874487e-03\n",
      " 3.25527775e-03 3.28422170e-03 3.29436938e-03 3.31293078e-03\n",
      " 3.32844297e-03 3.33597370e-03 3.36688728e-03 3.37437556e-03\n",
      " 3.40048123e-03 3.41082973e-03 3.42150947e-03 3.43618570e-03\n",
      " 3.46671997e-03 3.48925596e-03 3.50174032e-03 3.51542938e-03\n",
      " 3.53548394e-03 3.54945987e-03 3.57001371e-03 3.59835598e-03\n",
      " 3.61692788e-03 3.62876149e-03 3.64581354e-03 3.67182060e-03\n",
      " 3.68842132e-03 3.72702021e-03 3.73242605e-03 3.74681355e-03\n",
      " 3.76294274e-03 3.76571176e-03 3.79354866e-03 3.81610978e-03\n",
      " 3.83305354e-03 3.86007804e-03 3.86563855e-03 3.88491018e-03\n",
      " 3.89734108e-03 3.90409078e-03 3.91672029e-03 3.93379615e-03\n",
      " 3.94317629e-03 3.96537211e-03 3.98580874e-03 4.00983001e-03\n",
      " 4.04845889e-03 4.05452672e-03 4.09296679e-03 4.10541889e-03\n",
      " 4.12828799e-03 4.13494993e-03 4.17547826e-03 4.17726170e-03\n",
      " 4.20740128e-03 4.22638455e-03 4.25392269e-03 4.26389023e-03\n",
      " 4.30245442e-03 4.33315915e-03 4.34835390e-03 4.37331832e-03\n",
      " 4.39012354e-03 4.40274722e-03 4.42129240e-03 4.45394733e-03\n",
      " 4.46561372e-03 4.48883298e-03 4.51967363e-03 4.54268748e-03\n",
      " 4.56527985e-03 4.56775459e-03 4.61522095e-03 4.63722375e-03\n",
      " 4.64663473e-03 4.68876687e-03 4.72174793e-03 4.74663035e-03\n",
      " 4.76171802e-03 4.77980581e-03 4.79831213e-03 4.82374265e-03\n",
      " 4.84305352e-03 4.86328581e-03 4.87302480e-03 4.93920779e-03\n",
      " 4.95265883e-03 4.96471061e-03 5.00730153e-03 5.04194364e-03\n",
      " 5.06265931e-03 5.07623570e-03 5.11389518e-03 5.12790411e-03\n",
      " 5.13806747e-03 5.18619735e-03 5.20650914e-03 5.22012103e-03\n",
      " 5.23275440e-03 5.27405386e-03 5.31071965e-03 5.33569973e-03\n",
      " 5.36731069e-03 5.39099802e-03 5.43278627e-03 5.44171154e-03\n",
      " 5.47859266e-03 5.48239296e-03 5.55139294e-03 5.56475595e-03\n",
      " 5.58676116e-03 5.62094008e-03 5.64271218e-03 5.67493243e-03\n",
      " 5.69762538e-03 5.71011631e-03 5.77874514e-03 5.79706133e-03\n",
      " 5.82470029e-03 5.84018970e-03 5.88694891e-03 5.94038559e-03\n",
      " 5.95457793e-03 5.98264260e-03 6.01859781e-03 6.06494347e-03\n",
      " 6.07649688e-03 6.11983425e-03 6.14889646e-03 6.17479812e-03\n",
      " 6.19784918e-03 6.21258997e-03 6.26438143e-03 6.29313842e-03\n",
      " 6.29992197e-03 6.33220044e-03 6.39368196e-03 6.44219579e-03\n",
      " 6.45113793e-03 6.50870504e-03 6.51645189e-03 6.53991646e-03\n",
      " 6.55930107e-03 6.60262462e-03 6.61572219e-03 6.70276927e-03\n",
      " 6.73351689e-03 6.74373789e-03 6.74598712e-03 6.86089812e-03\n",
      " 6.90887734e-03 6.94971270e-03 6.96602491e-03 6.97190603e-03\n",
      " 7.01204404e-03 7.03798734e-03 7.04085926e-03 7.06106899e-03\n",
      " 7.13013480e-03 7.16342508e-03 7.18176740e-03 7.25105069e-03\n",
      " 7.28176898e-03 7.31208754e-03 7.36190467e-03 7.41188590e-03\n",
      " 7.42648313e-03 7.45888714e-03 7.48700808e-03 7.54918458e-03\n",
      " 7.59998961e-03 7.64083127e-03 7.66259518e-03 7.72797216e-03\n",
      " 7.74150675e-03 7.78212828e-03 7.84654435e-03 7.86584168e-03\n",
      " 7.89280744e-03 7.93535948e-03 7.94246626e-03 8.00264497e-03\n",
      " 8.06033944e-03 8.09800938e-03 8.11261200e-03 8.15265542e-03\n",
      " 8.19202642e-03 8.27050755e-03 8.33408815e-03 8.38654711e-03\n",
      " 8.43475819e-03 8.47378255e-03 8.54145093e-03 8.60449211e-03\n",
      " 8.63025415e-03 8.64618673e-03 8.72516781e-03 8.75501388e-03\n",
      " 8.78824431e-03 8.84746424e-03 8.89567411e-03 8.92380045e-03\n",
      " 9.02215987e-03 9.06274678e-03 9.11779043e-03 9.14019682e-03\n",
      " 9.17585752e-03 9.22062408e-03 9.26660147e-03 9.30894879e-03\n",
      " 9.39905685e-03 9.46397867e-03 9.52642492e-03 9.57638699e-03\n",
      " 9.60095100e-03 9.69555561e-03 9.72592585e-03 9.79317472e-03\n",
      " 9.83687251e-03 9.90097528e-03 9.95303737e-03 9.96793352e-03\n",
      " 1.00886620e-02 1.01214338e-02 1.01841456e-02 1.02651448e-02\n",
      " 1.02964825e-02 1.03119461e-02 1.03555079e-02 1.04625337e-02\n",
      " 1.05537435e-02 1.05732137e-02 1.06198262e-02 1.06549842e-02\n",
      " 1.06931258e-02 1.08046701e-02 1.08675012e-02 1.09922737e-02\n",
      " 1.10766094e-02 1.11408342e-02 1.11837638e-02 1.12145300e-02\n",
      " 1.12645877e-02 1.14372535e-02 1.14586795e-02 1.15209535e-02\n",
      " 1.16283228e-02 1.16625726e-02 1.17653106e-02 1.18502496e-02\n",
      " 1.19021134e-02 1.19717250e-02 1.20287204e-02 1.20786750e-02\n",
      " 1.21655599e-02 1.22210586e-02 1.22769526e-02 1.24642412e-02\n",
      " 1.26502393e-02 1.26640434e-02 1.27284157e-02 1.27548472e-02\n",
      " 1.29085022e-02 1.30809789e-02 1.31372983e-02 1.32714232e-02\n",
      " 1.32955129e-02 1.34116941e-02 1.35873403e-02 1.36530430e-02\n",
      " 1.37227998e-02 1.38140188e-02 1.38747754e-02 1.39333327e-02\n",
      " 1.40908127e-02 1.41369143e-02 1.42332692e-02 1.42927143e-02\n",
      " 1.43501031e-02 1.44255721e-02 1.46962629e-02 1.47569569e-02\n",
      " 1.47947001e-02 1.49302618e-02 1.50162185e-02 1.51814788e-02\n",
      " 1.52157903e-02 1.53558856e-02 1.54166488e-02 1.55153205e-02\n",
      " 1.55759262e-02 1.57613779e-02 1.58778945e-02 1.60395757e-02\n",
      " 1.61670340e-02 1.63469675e-02 1.64871594e-02 1.65151569e-02\n",
      " 1.66328625e-02 1.66806730e-02 1.67836915e-02 1.71476077e-02\n",
      " 1.72524745e-02 1.73099638e-02 1.75373317e-02 1.76289860e-02\n",
      " 1.77737330e-02 1.79686919e-02 1.81251149e-02 1.82828053e-02\n",
      " 1.85387855e-02 1.86422018e-02 1.87381372e-02 1.88602285e-02\n",
      " 1.90647276e-02 1.92389924e-02 1.94753191e-02 1.95038218e-02\n",
      " 1.97150096e-02 1.97659290e-02 1.99993253e-02 2.02594442e-02\n",
      " 2.03963840e-02 2.06188815e-02 2.07759644e-02 2.07869920e-02\n",
      " 2.09618748e-02 2.10804276e-02 2.12345405e-02 2.15570035e-02\n",
      " 2.17194552e-02 2.19307518e-02 2.22673749e-02 2.23597510e-02\n",
      " 2.26683167e-02 2.28645658e-02 2.29426009e-02 2.31580821e-02\n",
      " 2.32784030e-02 2.37156308e-02 2.40847307e-02 2.42654606e-02\n",
      " 2.46266675e-02 2.46535246e-02 2.49649493e-02 2.51707176e-02\n",
      " 2.54276689e-02 2.55662967e-02 2.60653079e-02 2.61754193e-02\n",
      " 2.65892267e-02 2.68236480e-02 2.69093864e-02 2.72138780e-02\n",
      " 2.75277940e-02 2.76688182e-02 2.78441405e-02 2.82018959e-02\n",
      " 2.84495819e-02 2.85053737e-02 2.89148697e-02 2.92214378e-02\n",
      " 2.94493160e-02 3.00104361e-02 3.01207325e-02 3.05854172e-02\n",
      " 3.11653223e-02 3.16771950e-02 3.19498878e-02 3.24504203e-02\n",
      " 3.27067227e-02 3.28500005e-02 3.35682911e-02 3.38260746e-02\n",
      " 3.42245656e-02 3.47972749e-02 3.49394412e-02 3.54059071e-02\n",
      " 3.56085332e-02 3.59225040e-02 3.64824673e-02 3.73404027e-02\n",
      " 3.76132830e-02 3.84161025e-02 3.88167664e-02 3.91536079e-02\n",
      " 3.94230723e-02 3.98466121e-02 4.02224684e-02 4.06806181e-02\n",
      " 4.15211430e-02 4.22648542e-02 4.25041889e-02 4.29616444e-02\n",
      " 4.33180285e-02 4.40386215e-02 4.51045379e-02 4.56542833e-02\n",
      " 4.60194936e-02 4.67139278e-02 4.81007061e-02 4.89804941e-02\n",
      " 4.92850215e-02 4.98829655e-02 5.10819745e-02 5.22513315e-02\n",
      " 5.31003452e-02 5.36555047e-02 5.42154027e-02 5.54922159e-02\n",
      " 5.69446300e-02 5.77614937e-02 5.86111862e-02 6.00583756e-02\n",
      " 6.03623185e-02 6.19718555e-02 6.37166894e-02 6.40122252e-02\n",
      " 6.49324552e-02 6.61953865e-02 6.87108619e-02 6.99115942e-02\n",
      " 7.10273548e-02 7.19844611e-02 7.35044526e-02 7.45630759e-02\n",
      " 7.67102723e-02 7.93433566e-02 8.12815459e-02 8.27384103e-02\n",
      " 8.53030862e-02 8.79000514e-02 8.87965103e-02 8.90795239e-02\n",
      " 9.39463340e-02 9.80420986e-02 9.87017036e-02 1.01919361e-01\n",
      " 1.03262164e-01 1.05770965e-01 1.07208456e-01 1.09811755e-01\n",
      " 1.18782527e-01 1.20626766e-01 1.22412929e-01 1.23373363e-01\n",
      " 1.33274089e-01 1.39431062e-01 1.43760030e-01 1.45642564e-01\n",
      " 1.50266957e-01 1.54694158e-01 1.60437224e-01 1.75043672e-01\n",
      " 1.83170216e-01 1.88018539e-01 1.92257868e-01 2.10630729e-01\n",
      " 2.21470567e-01 2.21928481e-01 2.39901121e-01 2.52157445e-01\n",
      " 2.74122406e-01 3.00924849e-01 3.13214610e-01 3.24352089e-01\n",
      " 3.52992079e-01 3.72572180e-01 4.02870179e-01 4.27302588e-01\n",
      " 4.47543251e-01 5.38203341e-01 5.92306607e-01 7.01747006e-01\n",
      " 8.65130239e-01 1.08076479e+00 1.39534094e+00 1.81854112e+00\n",
      " 1.99530609e+00 4.23824843e+00 9.91086490e+00 2.60938670e+01]\n"
     ]
    }
   ],
   "source": [
    "def PCA(A,p):\n",
    "    mean = np.mean(A,0)\n",
    "    A_mean = A-mean\n",
    "    A_mean_T = A_mean.transpose()\n",
    "    n = A_mean.shape[0]\n",
    "    C=np.matmul(A_mean_T,A_mean)/(n-1)\n",
    "    eigenVal,eigenVect = np.linalg.eigh(C)\n",
    "    print(eigenVal)\n",
    "    return eigenVect\n",
    "\n",
    "\n",
    "\n",
    "eig = PCA(X_train_boot_tshirt_norm,700)"
   ]
  },
  {
   "cell_type": "code",
   "execution_count": 35,
   "metadata": {},
   "outputs": [
    {
     "name": "stdout",
     "output_type": "stream",
     "text": [
      "EigenVector of Cov matrix:  (784, 784)\n"
     ]
    }
   ],
   "source": [
    "print(\"EigenVector of Cov matrix: \", eig.shape)"
   ]
  },
  {
   "cell_type": "markdown",
   "metadata": {},
   "source": [
    "## PCA"
   ]
  },
  {
   "cell_type": "code",
   "execution_count": 43,
   "metadata": {},
   "outputs": [
    {
     "data": {
      "text/plain": [
       "<matplotlib.image.AxesImage at 0x25832e88c88>"
      ]
     },
     "execution_count": 43,
     "metadata": {},
     "output_type": "execute_result"
    },
    {
     "data": {
      "image/png": "[encoded data removed]",
      "text/plain": [
       "<Figure size 432x288 with 1 Axes>"
      ]
     },
     "metadata": {
      "needs_background": "light"
     },
     "output_type": "display_data"
    },
    {
     "data": {
      "image/png": "[encoded data removed]",
      "text/plain": [
       "<Figure size 432x288 with 1 Axes>"
      ]
     },
     "metadata": {
      "needs_background": "light"
     },
     "output_type": "display_data"
    }
   ],
   "source": [
    "c = eig[:,:784]\n",
    "temp = np.matmul(X_train_boot_tshirt_norm,c)\n",
    "temp = np.matmul(temp,c.transpose())\n",
    "#print(temp)\n",
    "\n",
    "import numpy as np\n",
    "import matplotlib.pyplot as plt\n",
    "import matplotlib.cm as cm\n",
    "\n",
    "\n",
    "#print(temp[0])\n",
    "\n",
    "plt.imshow(temp[0].reshape((28,28)), cmap='gray')\n",
    "fig = plt.figure()\n",
    "plt.imshow(X_train_boot_tshirt_norm[0].reshape((28,28)), cmap='gray')"
   ]
  },
  {
   "cell_type": "code",
   "execution_count": 531,
   "metadata": {},
   "outputs": [
    {
     "name": "stdout",
     "output_type": "stream",
     "text": [
      "10\n"
     ]
    }
   ],
   "source": [
    "class LogRegression(): \n",
    "    __batch_size = 0\n",
    "    \n",
    "    def __init__(self, X_train, Y_train,lr,epoches,k):\n",
    "        self.X_train = X_train\n",
    "        self.Y_train= Y_train\n",
    "        self.lr = lr\n",
    "        self.epoches = epoches\n",
    "        self.w = np.zeros((X_train.shape[1],1))\n",
    "        self.k = k\n",
    "        \n",
    "    #split the train data into K batches. \n",
    "    def batch(self):\n",
    "        self.X_train = np.vsplit(self.X_train,self.k)\n",
    "        self.Y_train = np.split(self.Y_train,self.k)\n",
    "        self.batch_size = self.X_train[0].shape[0]\n",
    "    \n",
    "    @staticmethod\n",
    "    def sigmoid(x):\n",
    "        return 1/(1 + np.exp(-x))\n",
    "    \n",
    "      def __input(self,x,w):\n",
    "        return np.dot(x,w)\n",
    "    \n",
    "    def y_predict(self,x,w):\n",
    "        return self.sigmoid(self.__input(x,w))\n",
    "\n",
    "    def loss(self,y_train,w,x,batch_size):\n",
    "        sum = 0\n",
    "        for i in range(batch_size):\n",
    "            part1 = y_train[i]*np.log(self.y_predict(x[i,:],w))\n",
    "            part2 = (1-y_train[i])*np.log(1-np.log(self.y_predict(x[i,:],w)))\n",
    "            sum = part1+part2\n",
    "        sum = -1*sum\n",
    "        return sum\n",
    "    \n",
    "    \n",
    "    def loss_gradient(self,y_train,w,X,batch_size):\n",
    "        diff = y_train - self.y_predict(x,w)\n",
    "        print(diff)\n",
    "        gradient = np.dot(x.transpose(),diff)\n",
    "        return gradient\n",
    "    \n",
    "            \n",
    "model = LogRegression(X_train_boot_tshirt_norm,np.array(Y_boot_tshirt),3,0.01,10)\n",
    "\n",
    "\n",
    "\n",
    "y_t = np.matrix([[0.5],[1],[0.5]])\n",
    "w = np.matrix([[1],[1],[1]])\n",
    "x = np.matrix(([[1,2,3],[1,2,3],[1,2,3],[1,2,3],[1,2,3],[1,2,3],[1,2,3],[1,2,3],[1,2,3],[1,2,3]]))\n",
    "\n",
    "\n",
    "\n",
    "model.batch()\n",
    "\n",
    "print(len(model.X_train))\n",
    "\n",
    "\n"
   ]
  },
  {
   "cell_type": "code",
   "execution_count": 593,
   "metadata": {},
   "outputs": [],
   "source": [
    "\n",
    "train = model.X_train\n",
    "train = np.dot(train,eig)\n",
    "    \n",
    "for i in range(model.k):\n",
    "    val_set = train[i]\n",
    "    train_set = [ train[x] for x in range(len(train)) if x != i]\n",
    "    train_set = np.concatenate(train_set) \n",
    "    for i in range(model.epoches):\n",
    "        model.train()\n",
    "    \n",
    "\n"
   ]
  },
  {
   "cell_type": "code",
   "execution_count": null,
   "metadata": {},
   "outputs": [],
   "source": []
  },
  {
   "cell_type": "code",
   "execution_count": null,
   "metadata": {},
   "outputs": [],
   "source": []
  },
  {
   "cell_type": "code",
   "execution_count": null,
   "metadata": {},
   "outputs": [],
   "source": []
  }
 ],
 "metadata": {
  "kernelspec": {
   "display_name": "Python 3",
   "language": "python",
   "name": "python3"
  }
 },
 "nbformat": 4,
 "nbformat_minor": 4
}
