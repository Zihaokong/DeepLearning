{
 "cells": [
  {
   "cell_type": "code",
   "execution_count": 1,
   "metadata": {},
   "outputs": [],
   "source": [
    "import numpy as np\n",
    "from fashion_mnist_dataset.utils import mnist_reader\n",
    "from PIL import Image\n",
    "import matplotlib.pyplot as plt\n",
    "import matplotlib.cm as cm\n",
    "\n",
    "# Load datasets\n",
    "X_train_mnist, y_train_mnist = mnist_reader.load_mnist('fashion_mnist_dataset/data/fashion', kind='train')\n",
    "X_test_mnist, y_test_mnist = mnist_reader.load_mnist('fashion_mnist_dataset/data/fashion', kind='t10k')\n",
    "\n",
    "X_train_tshirt_boot = np.array([image for image, label in zip(X_train_mnist, y_train_mnist) if label == 0 or label == 9])\n",
    "y_train_tshirt_boot = np.array([0 if label == 0 else 1 for image, label in zip(X_train_mnist, y_train_mnist) if label == 0 or label == 9])\n",
    "X_test_tshirt_boot = np.array([image for image, label in zip(X_test_mnist, y_test_mnist) if label == 0 or label == 9])\n",
    "y_test_tshirt_boot = np.array([0 if label == 0 else 1 for image, label in zip(X_test_mnist, y_test_mnist) if label == 0 or label == 9])"
   ]
  },
  {
   "cell_type": "code",
   "execution_count": 2,
   "metadata": {},
   "outputs": [],
   "source": [
    "# Shuffle\n",
    "shuffled_indices = np.random.permutation(len(X_train_tshirt_boot))\n",
    "X_train_tshirt_boot = X_train_tshirt_boot[shuffled_indices]\n",
    "y_train_tshirt_boot = X_train_tshirt_boot[shuffled_indices].reshape(-1, 1)\n",
    "\n",
    "shuffled_indices = np.random.permutation(len(X_test_tshirt_boot))\n",
    "X_test_tshirt_boot = X_test_tshirt_boot[shuffled_indices]\n",
    "y_test_tshirt_boot = y_test_tshirt_boot[shuffled_indices].reshape(-1, 1)"
   ]
  },
  {
   "cell_type": "code",
   "execution_count": 3,
   "metadata": {},
   "outputs": [],
   "source": [
    "# Normalization\n",
    "def normalize(vec): \n",
    "    maximum = max(vec)\n",
    "    minimum = min(vec)\n",
    "    interval = maximum - minimum\n",
    "    if interval == 0: \n",
    "        return vec\n",
    "    else:\n",
    "        return (vec - minimum) / interval\n",
    "\n",
    "X_train_tshirt_boot = np.apply_along_axis(normalize, 0, X_train_tshirt_boot)\n",
    "X_test_tshirt_boot = np.apply_along_axis(normalize, 0, X_test_tshirt_boot)"
   ]
  },
  {
   "cell_type": "code",
   "execution_count": 4,
   "metadata": {},
   "outputs": [],
   "source": [
    "# Principal component analysis (PCA)\n",
    "def pca(A):\n",
    "    mean = np.mean(A, axis = 0)\n",
    "    centered = A - mean\n",
    "    covariance_matrix = np.cov(centered.T)\n",
    "    eigen_values, eigen_vectors = np.linalg.eigh(covariance_matrix)\n",
    "    \n",
    "    return np.fliplr(eigen_vectors)\n",
    "\n",
    "pc_tshirt_boot = pca(X_train_tshirt_boot)"
   ]
  },
  {
   "cell_type": "code",
   "execution_count": null,
   "metadata": {},
   "outputs": [],
   "source": [
    "# Visualize PCs\n",
    "sample_image = X_train_tshirt_boot[np.random.choice(len(X_train_tshirt_boot)), :]\n",
    "\n",
    "pc_tshirt_boot_2 = (sample_image @ pc_tshirt_boot[:, :2] @ pc_tshirt_boot[:, :2].T)\n",
    "pc_tshirt_boot_10 = (sample_image @ pc_tshirt_boot[:, :10] @ pc_tshirt_boot[:, :10].T)\n",
    "pc_tshirt_boot_50 = (sample_image @ pc_tshirt_boot[:, :50] @ pc_tshirt_boot[:, :50].T)\n",
    "pc_tshirt_boot_100 = (sample_image @ pc_tshirt_boot[:, :100] @ pc_tshirt_boot[:, :100].T)\n",
    "pc_tshirt_boot_200 = (sample_image @ pc_tshirt_boot[:, :200] @ pc_tshirt_boot[:, :200].T)\n",
    "pc_tshirt_boot_784 = (sample_image @ pc_tshirt_boot[:, :784] @ pc_tshirt_boot[:, :784].T)\n",
    "\n",
    "fig, axs = plt.subplots(2, 3)\n",
    "plt.subplots_adjust(hspace = 0.5)\n",
    "fig.suptitle('Principal Components of Boots - T-Shirt Dataset', fontsize = 16)\n",
    "axs[0, 0].set_title('p = 2')\n",
    "axs[0, 0].imshow(pc_tshirt_boot_2.reshape((28, 28)), cmap='gray')\n",
    "axs[0, 1].set_title('p = 10')\n",
    "axs[0, 1].imshow(pc_tshirt_boot_10.reshape((28, 28)), cmap='gray')\n",
    "axs[0, 2].set_title('p = 50')\n",
    "axs[0, 2].imshow(pc_tshirt_boot_50.reshape((28, 28)), cmap='gray')\n",
    "axs[1, 0].set_title('p = 100')\n",
    "axs[1, 0].imshow(pc_tshirt_boot_100.reshape((28, 28)), cmap='gray')\n",
    "axs[1, 1].set_title('p = 200')\n",
    "axs[1, 1].imshow(pc_tshirt_boot_200.reshape((28, 28)), cmap='gray')\n",
    "axs[1, 2].set_title('p = 784')\n",
    "axs[1, 2].imshow(pc_tshirt_boot_784.reshape((28, 28)), cmap='gray')"
   ]
  },
  {
   "cell_type": "code",
   "execution_count": null,
   "metadata": {},
   "outputs": [],
   "source": []
  }
 ],
 "metadata": {
  "kernelspec": {
   "display_name": "Python 3",
   "language": "python",
   "name": "python3"
  },
  "language_info": {
   "codemirror_mode": {
    "name": "ipython",
    "version": 3
   },
   "file_extension": ".py",
   "mimetype": "text/x-python",
   "name": "python",
   "nbconvert_exporter": "python",
   "pygments_lexer": "ipython3",
   "version": "3.8.2"
  }
 },
 "nbformat": 4,
 "nbformat_minor": 4
}
