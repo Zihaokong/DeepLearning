{
 "cells": [
  {
   "cell_type": "code",
   "execution_count": 1,
   "metadata": {},
   "outputs": [],
   "source": [
    "import numpy as np\n",
    "import matplotlib.pyplot as plt\n",
    "from utils import load_data, load_config, write_to_file, one_hot_encoding\n",
    "\n",
    "# Load configuration\n",
    "config = load_config('./config.yaml')\n",
    "\n",
    "# Load the data and reshape from (32 x 32) to (1024 x 1)\n",
    "x_train, y_train, x_test, y_test = load_data()\n",
    "\n",
    "# One-hot encoding\n",
    "y_train = np.eye(len(y_train), 10)[y_train]\n",
    "y_test = np.eye(len(y_test), 10)[y_test]\n",
    "\n",
    "x_train = np.array([image.reshape((1024)) for image in x_train], dtype='float')\n",
    "x_test = np.array([image.reshape((1024)) for image in x_test], dtype='float')\n",
    "\n",
    "# Create validation set out of training data.\n",
    "num = int(len(x_train) * 0.8)\n",
    "[x_train, x_val]= np.split(x_train, [num])\n",
    "[y_train, y_val] = np.split(y_train, [num])"
   ]
  },
  {
   "cell_type": "code",
   "execution_count": 2,
   "metadata": {},
   "outputs": [],
   "source": [
    "# Calculate feature mean and standard deviation for x_train, and use them to\n",
    "# Z score x_train, X_val and X_test\n",
    "def z_score_train_test(train, val, test):\n",
    "    train_T = train.T\n",
    "    val_T = val.T\n",
    "    test_T = test.T\n",
    "    for i in range(len(train_T)):\n",
    "        mean = np.mean(train_T[i])\n",
    "        SD = np.std(train_T[i])\n",
    "        train_T[i] = (train_T[i] - mean) / SD\n",
    "        val_T[i] = (val_T[i] - mean) / SD\n",
    "        test_T[i] = (test_T[i] - mean) / SD\n",
    "    return train_T.T, val_T.T, test_T.T\n",
    "\n",
    "# Z-scoring\n",
    "x_train, x_val, x_test = z_score_train_test(x_train, x_val, x_test)"
   ]
  },
  {
   "cell_type": "code",
   "execution_count": 3,
   "metadata": {},
   "outputs": [],
   "source": [
    "train_acc = []\n",
    "valid_acc = []\n",
    "train_loss = []\n",
    "valid_loss = []\n",
    "best_model = None"
   ]
  },
  {
   "cell_type": "code",
   "execution_count": 4,
   "metadata": {},
   "outputs": [],
   "source": [
    "from neuralnet import *\n",
    "\n",
    "model = NeuralNetwork(config=config)"
   ]
  },
  {
   "cell_type": "code",
   "execution_count": null,
   "metadata": {},
   "outputs": [],
   "source": [
    "def accuracy(y, t):\n",
    "    y = np.argmax(y, axis=1)\n",
    "    t = np.argmax(t, axis=1)\n",
    "    res = [y_hat == t_hat for y_hat, t_hat in zip(y, t)]\n",
    "    return np.sum(res) / len(res)"
   ]
  },
  {
   "cell_type": "code",
   "execution_count": null,
   "metadata": {},
   "outputs": [],
   "source": [
    "# SGD\n",
    "for i in range(config['epochs']): \n",
    "    # Randomize the order of the indices into the training set\n",
    "    shuffled_indices = np.random.permutation(len(x_train))\n",
    "    x_train = x_train[shuffled_indices]\n",
    "    y_train = y_train[shuffled_indices]\n",
    "    for j in range(0, len(x_train), config['batch_size']):\n",
    "        if (j + config['batch_size'] < len(x_train)):\n",
    "            batch_x = x_train[[j, j + config['batch_size']]]\n",
    "            batch_y = y_train[[j, j + config['batch_size']]]\n",
    "        else:\n",
    "            batch_x = x_train[[j, len(x_train) - 1]]\n",
    "            batch_y = y_train[[j, len(x_train) - 1]]\n",
    "        y, loss = model(x=batch_x, targets=batch_y)\n",
    "        model.backward()\n",
    "        \n",
    "    y, loss = model.forward(x_val, y_val)\n",
    "    acc = accuracy(y, y_val)\n",
    "    print('Epoch', i, 'Loss', loss, 'Accuracy', acc)"
   ]
  },
  {
   "cell_type": "code",
   "execution_count": 11,
   "metadata": {},
   "outputs": [
    {
     "name": "stdout",
     "output_type": "stream",
     "text": [
      "Expected 7.156152821163886e-07\n",
      "Actual -204.28835021624212\n",
      "Agress? False\n"
     ]
    }
   ],
   "source": [
    "model = NeuralNetwork(config=config)\n",
    "\n",
    "# One output bias weight\n",
    "epsilon = 1e-2\n",
    "model.layers[2].b[0][8] += epsilon\n",
    "y, loss = model.forward(x_val, targets=y_val)\n",
    "e_w_plus = loss\n",
    "model.layers[2].b[0][8] -= epsilon\n",
    "y, loss = model.forward(x_val, targets=y_val)\n",
    "e_w_minus = loss\n",
    "e_w_diff = e_w_plus - e_w_minus\n",
    "expected_d_w = (e_w_diff / 2 * epsilon)\n",
    "model.backward()\n",
    "actual_d_w = model.layers[2].d_b[0][8]\n",
    "print('Expected', expected_d_w)\n",
    "print('Actual', actual_d_w)\n",
    "print('Agress?', np.absolute(expected_d_w - actual_d_w) < epsilon ** 2)"
   ]
  },
  {
   "cell_type": "code",
   "execution_count": null,
   "metadata": {},
   "outputs": [],
   "source": [
    "model = NeuralNetwork(config=config)\n",
    "\n",
    "# One hidden bias weight\n",
    "epsilon = 1e-2\n",
    "model.layers[0].b[0][8] += epsilon\n",
    "y = model.forward(x_val)\n",
    "e_w_plus = model.loss(y, y_val)\n",
    "model.layers[0].b[0][8] -= epsilon\n",
    "y = model.forward(x_val)\n",
    "e_w_minus = model.loss(y, y_val)\n",
    "e_w_diff = e_w_plus - e_w_minus\n",
    "expected_d_w = (e_w_diff / 2 * epsilon)\n",
    "expected_d_w"
   ]
  },
  {
   "cell_type": "code",
   "execution_count": 12,
   "metadata": {},
   "outputs": [
    {
     "name": "stdout",
     "output_type": "stream",
     "text": [
      "Expected 7.20196551919905e-07\n",
      "Actual 207.78139084301446\n",
      "Agress? False\n"
     ]
    }
   ],
   "source": [
    "model = NeuralNetwork(config=config)\n",
    "\n",
    "# Choose two (1/2) hidden to output bias weight\n",
    "epsilon = 1e-2\n",
    "model.layers[2].w[0][8] += epsilon\n",
    "y, loss = model.forward(x_val, targets=y_val)\n",
    "e_w_plus = loss\n",
    "model.layers[2].w[0][8] -= epsilon\n",
    "y, loss = model.forward(x_val, targets=y_val)\n",
    "e_w_minus = loss\n",
    "e_w_diff = e_w_plus - e_w_minus\n",
    "expected_d_w = (e_w_diff / 2 * epsilon)\n",
    "model.backward()\n",
    "actual_d_w = model.layers[2].d_w[0][8]\n",
    "print('Expected', expected_d_w)\n",
    "print('Actual', actual_d_w)\n",
    "print('Agress?', np.absolute(expected_d_w - actual_d_w) < epsilon ** 2)"
   ]
  },
  {
   "cell_type": "code",
   "execution_count": null,
   "metadata": {},
   "outputs": [],
   "source": [
    "model = NeuralNetwork(config=config)\n",
    "\n",
    "# Choose two (2/2) hidden to output bias weight\n",
    "epsilon = 1e-2\n",
    "model.layers[2].w[8][0] += epsilon\n",
    "y = model.forward(x_val)\n",
    "e_w_plus = model.loss(y, y_val)\n",
    "model.layers[2].w[8][0] -= epsilon\n",
    "y = model.forward(x_val)\n",
    "e_w_minus = model.loss(y, y_val)\n",
    "e_w_diff = e_w_plus - e_w_minus\n",
    "expected_d_w = (e_w_diff / 2 * epsilon)\n",
    "expected_d_w"
   ]
  },
  {
   "cell_type": "code",
   "execution_count": null,
   "metadata": {},
   "outputs": [],
   "source": [
    "model = NeuralNetwork(config=config)\n",
    "\n",
    "# Choose two (1/2) input to hidden bias weight\n",
    "epsilon = 1e-2\n",
    "model.layers[0].w[0][8] += epsilon\n",
    "y = model.forward(x_val)\n",
    "e_w_plus = model.loss(y, y_val)\n",
    "model.layers[0].w[0][8] -= epsilon\n",
    "y = model.forward(x_val)\n",
    "e_w_minus = model.loss(y, y_val)\n",
    "e_w_diff = e_w_plus - e_w_minus\n",
    "expected_d_w = (e_w_diff / 2 * epsilon)\n",
    "expected_d_w"
   ]
  },
  {
   "cell_type": "code",
   "execution_count": null,
   "metadata": {},
   "outputs": [],
   "source": [
    "model = NeuralNetwork(config=config)\n",
    "\n",
    "# Choose two (2/2) input to hidden bias weight\n",
    "epsilon = 1e-2\n",
    "model.layers[0].w[8][0] += epsilon\n",
    "y = model.forward(x_val)\n",
    "e_w_plus = model.loss(y, y_val)\n",
    "model.layers[0].w[8][0] -= epsilon\n",
    "y = model.forward(x_val)\n",
    "e_w_minus = model.loss(y, y_val)\n",
    "e_w_diff = e_w_plus - e_w_minus\n",
    "expected_d_w = (e_w_diff / 2 * epsilon)\n",
    "expected_d_w"
   ]
  },
  {
   "cell_type": "code",
   "execution_count": null,
   "metadata": {},
   "outputs": [],
   "source": []
  }
 ],
 "metadata": {
  "kernelspec": {
   "display_name": "Python 3",
   "language": "python",
   "name": "python3"
  },
  "language_info": {
   "codemirror_mode": {
    "name": "ipython",
    "version": 3
   },
   "file_extension": ".py",
   "mimetype": "text/x-python",
   "name": "python",
   "nbconvert_exporter": "python",
   "pygments_lexer": "ipython3",
   "version": "3.8.2"
  }
 },
 "nbformat": 4,
 "nbformat_minor": 4
}
