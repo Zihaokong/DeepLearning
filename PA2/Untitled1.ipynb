{
 "cells": [
  {
   "cell_type": "code",
   "execution_count": 1,
   "metadata": {},
   "outputs": [],
   "source": [
    "import numpy as np\n",
    "import matplotlib.pyplot as plt\n",
    "from utils import load_data, load_config, write_to_file, one_hot_encoding\n",
    "\n",
    "# Load configuration\n",
    "config = load_config('./config.yaml')\n",
    "\n",
    "# Load the data and reshape from (32 x 32) to (1024 x 1)\n",
    "x_train, y_train, x_test, y_test = load_data()"
   ]
  },
  {
   "cell_type": "code",
   "execution_count": 2,
   "metadata": {},
   "outputs": [],
   "source": [
    "# One-hot encoding\n",
    "y_train = np.eye(len(y_train), 10)[y_train]\n",
    "y_test = np.eye(len(y_test), 10)[y_test]\n",
    "\n",
    "x_train = np.array([image.reshape((1024)) for image in x_train], dtype='float')\n",
    "x_test = np.array([image.reshape((1024)) for image in x_test], dtype='float')\n",
    "\n",
    "# Create validation set out of training data.\n",
    "num = int(len(x_train) * 0.8)\n",
    "[x_train, x_val]= np.split(x_train, [num])\n",
    "[y_train, y_val] = np.split(y_train, [num])"
   ]
  },
  {
   "cell_type": "code",
   "execution_count": 3,
   "metadata": {},
   "outputs": [],
   "source": [
    "# Calculate feature mean and standard deviation for x_train, and use them to\n",
    "# Z score x_train, X_val and X_test\n",
    "def z_score_train_test(train, val, test):\n",
    "    train_T = train.T\n",
    "    val_T = val.T\n",
    "    test_T = test.T\n",
    "    for i in range(len(train_T)):\n",
    "        mean = np.mean(train_T[i])\n",
    "        SD = np.std(train_T[i])\n",
    "        train_T[i] = (train_T[i] - mean) / SD\n",
    "        val_T[i] = (val_T[i] - mean) / SD\n",
    "        test_T[i] = (test_T[i] - mean) / SD\n",
    "    return train_T.T, val_T.T, test_T.T\n",
    "\n",
    "# Z-scoring\n",
    "x_train, x_val, x_test = z_score_train_test(x_train, x_val, x_test)"
   ]
  },
  {
   "cell_type": "code",
   "execution_count": 4,
   "metadata": {},
   "outputs": [],
   "source": [
    "def accuracy(y, t):\n",
    "    y = np.argmax(y, axis=1)\n",
    "    t = np.argmax(t, axis=1)\n",
    "    res = [y_hat == t_hat for y_hat, t_hat in zip(y, t)]\n",
    "    return np.sum(res) / len(res)"
   ]
  },
  {
   "cell_type": "code",
   "execution_count": 11,
   "metadata": {},
   "outputs": [],
   "source": [
    "best_model = None\n",
    "best_loss = float('inf')\n",
    "curr_loss = float('inf')\n",
    "prev_loss = float(\"inf\")\n",
    "train_acc = []\n",
    "valid_acc = []\n",
    "train_loss = []\n",
    "valid_loss = []\n",
    "patience = 5\n",
    "patience_streak = 0"
   ]
  },
  {
   "cell_type": "code",
   "execution_count": 12,
   "metadata": {},
   "outputs": [],
   "source": [
    "from neuralnet import *\n",
    "from copy import deepcopy\n",
    "\n",
    "model = NeuralNetwork(config=config)"
   ]
  },
  {
   "cell_type": "code",
   "execution_count": 13,
   "metadata": {},
   "outputs": [
    {
     "name": "stdout",
     "output_type": "stream",
     "text": [
      "[+] Epoch 0 Loss 1.5125646131920671 Accuracy 0.5013650013650014\n",
      "[+] Epoch 1 Loss 1.1531823801810548 Accuracy 0.6517199017199017\n",
      "[+] Epoch 2 Loss 1.0068472003623141 Accuracy 0.6998361998361998\n",
      "[+] Epoch 3 Loss 0.9490036378821349 Accuracy 0.7083674583674584\n",
      "[+] Epoch 4 Loss 0.8908662289617837 Accuracy 0.7262489762489762\n",
      "[+] Epoch 5 Loss 0.8354428314145843 Accuracy 0.7422194922194922\n",
      "[+] Epoch 6 Loss 0.8303858912727181 Accuracy 0.7442669942669943\n",
      "[+] Epoch 7 Loss 0.7905391123448544 Accuracy 0.7563472563472563\n",
      "[+] Epoch 8 Loss 0.7721807350226443 Accuracy 0.7614660114660114\n",
      "[+] Epoch 9 Loss 0.7452302721256352 Accuracy 0.7719082719082719\n",
      "[+] Epoch 10 Loss 0.7274197235953671 Accuracy 0.7801665301665301\n",
      "Epoch 11 Loss 0.7323496518547108 Accuracy 0.7794840294840295\n",
      "Epoch 12 Loss 0.7283954782252918 Accuracy 0.7757302757302758\n",
      "[+] Epoch 13 Loss 0.7113756522611715 Accuracy 0.7818727818727819\n",
      "[+] Epoch 14 Loss 0.7088549428290656 Accuracy 0.7862407862407862\n",
      "[+] Epoch 15 Loss 0.708095668184403 Accuracy 0.7824187824187824\n",
      "[+] Epoch 16 Loss 0.6803356344715773 Accuracy 0.795045045045045\n",
      "[+] Epoch 17 Loss 0.6735519992779834 Accuracy 0.7982527982527983\n",
      "Epoch 18 Loss 0.6817787849212298 Accuracy 0.7921102921102922\n",
      "Epoch 19 Loss 0.673708141573604 Accuracy 0.7944307944307945\n",
      "[+] Epoch 20 Loss 0.6641730537646097 Accuracy 0.7995495495495496\n",
      "[+] Epoch 21 Loss 0.6552599360943512 Accuracy 0.8034398034398035\n",
      "Epoch 22 Loss 0.6722916744690743 Accuracy 0.7960687960687961\n",
      "Epoch 23 Loss 0.6638660142606816 Accuracy 0.7967512967512967\n",
      "Epoch 24 Loss 0.6773666131670114 Accuracy 0.7946355446355446\n",
      "Epoch 25 Loss 0.6568285405428589 Accuracy 0.8024843024843025\n",
      "Epoch 26 Loss 0.705803568432045 Accuracy 0.7855582855582856\n",
      "Epoch 27 Loss 0.6685915416398337 Accuracy 0.7981162981162981\n",
      "Epoch 28 Loss 0.6838381970908987 Accuracy 0.7955910455910455\n",
      "Epoch 29 Loss 0.658479704748912 Accuracy 0.8056238056238056\n",
      "[+] Epoch 30 Loss 0.6539084619253873 Accuracy 0.8035763035763036\n",
      "[+] Epoch 31 Loss 0.6520944523201083 Accuracy 0.8046000546000546\n",
      "Epoch 32 Loss 0.6615649452642638 Accuracy 0.8002320502320502\n",
      "Epoch 33 Loss 0.6576942228031091 Accuracy 0.803985803985804\n",
      "Epoch 34 Loss 0.6525470559590848 Accuracy 0.8050778050778051\n",
      "Epoch 35 Loss 0.6726899286887731 Accuracy 0.8028255528255528\n",
      "Early stopped at epoch 35\n"
     ]
    }
   ],
   "source": [
    "# Stochastic gradient descent (SGD)\n",
    "for i in range(config['epochs']):\n",
    "    # Randomize the order of the indices into the training set\n",
    "    shuffled_indices = np.random.permutation(len(x_train))\n",
    "    x_train = x_train[shuffled_indices]\n",
    "    y_train = y_train[shuffled_indices]\n",
    "    for j in range(0, len(x_train), config['batch_size']):\n",
    "        # Mini-batching\n",
    "        if (j + config['batch_size'] < len(x_train)):\n",
    "            batch_x = x_train[j : j + config['batch_size'], :]\n",
    "            batch_y = y_train[j : j + config['batch_size'], :]\n",
    "        else:\n",
    "            batch_x = x_train[[j, len(x_train) - 1]]\n",
    "            batch_y = y_train[[j, len(x_train) - 1]]\n",
    "        \n",
    "        model.forward(x=batch_x, targets=batch_y)\n",
    "        model.backward()\n",
    "        \n",
    "    # Model performance evaluation\n",
    "    y, curr_loss = model.forward(x=x_train, targets=y_train)\n",
    "    train_loss.append(curr_loss)\n",
    "    train_acc.append(accuracy(y, y_train))\n",
    "    y, curr_loss = model.forward(x=x_val, targets=y_val)\n",
    "    acc = accuracy(y, y_val)\n",
    "    valid_loss.append(curr_loss)\n",
    "    valid_acc.append(acc)\n",
    "    # Best model\n",
    "    if curr_loss < best_loss:\n",
    "        best_loss = curr_loss\n",
    "        best_model = deepcopy(model)\n",
    "        print('[+] Epoch', i, 'Loss', curr_loss, 'Accuracy', acc)\n",
    "    else:\n",
    "        print('Epoch', i, 'Loss', curr_loss, 'Accuracy', acc)\n",
    "    # Early stop\n",
    "    if config['early_stop']:\n",
    "        if i > config['early_stop_epoch']:\n",
    "            if curr_loss >= best_loss:\n",
    "                patience_streak += 1\n",
    "            if patience_streak == 5:\n",
    "                print('Early stopped at epoch', i)\n",
    "                break\n",
    "    prev_loss = curr_loss"
   ]
  },
  {
   "cell_type": "code",
   "execution_count": 18,
   "metadata": {},
   "outputs": [
    {
     "data": {
      "image/png": "[encoded data removed]",
      "text/plain": [
       "<Figure size 432x288 with 1 Axes>"
      ]
     },
     "metadata": {
      "needs_background": "light"
     },
     "output_type": "display_data"
    }
   ],
   "source": [
    "fig, axs = plt.subplots()\n",
    "axs.plot(np.arange(0, len(train_loss)), train_loss, label='Training Loss')\n",
    "axs.plot(np.arange(0, len(valid_loss)), valid_loss, label='Validation Loss')\n",
    "legend = axs.legend(loc='upper center', shadow=True)\n",
    "for label in legend.get_texts():\n",
    "    label.set_fontsize('large')\n",
    "for label in legend.get_lines():\n",
    "    label.set_linewidth(1.5)  # the legend line width\n",
    "plt.xlabel(\"Epoch\", size=10.0)\n",
    "plt.ylabel(\"Loss\", size=10)\n",
    "plt.show()"
   ]
  },
  {
   "cell_type": "code",
   "execution_count": 22,
   "metadata": {},
   "outputs": [
    {
     "data": {
      "text/plain": [
       "0.7698217578365089"
      ]
     },
     "execution_count": 22,
     "metadata": {},
     "output_type": "execute_result"
    }
   ],
   "source": [
    "y, loss = model.forward(x=x_test, targets=y_test)\n",
    "acc = accuracy(y, y_test)\n",
    "acc"
   ]
  }
 ],
 "metadata": {
  "kernelspec": {
   "display_name": "Python 3",
   "language": "python",
   "name": "python3"
  },
  "language_info": {
   "codemirror_mode": {
    "name": "ipython",
    "version": 3
   },
   "file_extension": ".py",
   "mimetype": "text/x-python",
   "name": "python",
   "nbconvert_exporter": "python",
   "pygments_lexer": "ipython3",
   "version": "3.8.2"
  }
 },
 "nbformat": 4,
 "nbformat_minor": 4
}
